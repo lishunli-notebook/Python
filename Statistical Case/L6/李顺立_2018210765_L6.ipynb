{
 "cells": [
  {
   "cell_type": "markdown",
   "metadata": {},
   "source": [
    "#  李顺立\\_2018210765\\_L6\n",
    "----\n",
    "----"
   ]
  },
  {
   "cell_type": "markdown",
   "metadata": {},
   "source": [
    "## 构建文本词频矩阵并尝试 ***线性回归*** \n",
    "* 导入相应模块\n",
    "* 数据预处理\n",
    "    * 定义mac打开zip文件函数\n",
    "    * 加载本地字典\n",
    "    * 加载停用词表\n",
    "    * 定义寻找薪资的函数\n",
    "    * 定义职位和薪资要求区分函数\n",
    "* 文本词频处理\n",
    "     + 搭建词频数据框\n",
    "     + 构建线性回归模型\n",
    "     + 利用*sklearn* 中的*linear_model*做回归\n",
    "* 总结\n",
    "----"
   ]
  },
  {
   "cell_type": "markdown",
   "metadata": {},
   "source": [
    "## 导入相应模块"
   ]
  },
  {
   "cell_type": "code",
   "execution_count": 1,
   "metadata": {},
   "outputs": [],
   "source": [
    "###导入模块\n",
    "import jieba   #jieba分词\n",
    "import jieba.analyse\n",
    "import re\n",
    "import numpy as np\n",
    "import pandas as pd\n",
    "from sklearn import linear_model   #线性回归\n",
    "from zipfile import ZipFile  "
   ]
  },
  {
   "cell_type": "markdown",
   "metadata": {},
   "source": [
    "----\n",
    "## 数据预处理\n",
    "### 定义mac打开zip文件函数"
   ]
  },
  {
   "cell_type": "code",
   "execution_count": 2,
   "metadata": {},
   "outputs": [],
   "source": [
    "def open_zip(name):\n",
    "    '''用于mac打开zip文件，返回打开后的文件，用于txt读取'''\n",
    "\n",
    "    my_zip = ZipFile(name, 'r')  #打开压缩包\n",
    "    zip_file  = [my_zip.read(i).decode('utf-8') for i in my_zip.namelist()\n",
    "                         if '__M' not in i.encode('cp437').decode('utf-8') \n",
    "                         and my_zip.read(i).decode('utf-8') is not '']\n",
    "    my_zip.close()   ## 打开文本文件，使用‘utf-8’编码和‘cp437’解码并且保证结果中不含空的list\n",
    "    return zip_file"
   ]
  },
  {
   "cell_type": "code",
   "execution_count": 3,
   "metadata": {},
   "outputs": [
    {
     "name": "stdout",
     "output_type": "stream",
     "text": [
      "['\\n\\n薪资：2万-4万\\n北京3-5年硕士招3人岗位职责：\\n1、负责将反映业界高平的语音识别，语音合成，语音唤醒，声纹识别等语音技术，工程落地到车载 操作系统的语音模块中，为车载操作系统提供核心语音能力；\\n2、 负责认知语音识别引擎，语音数据平台，语音训练平台实现，搭建，测试及维护；\\n3、负责语音识别相关算法的研究与开发，声学模型训练、语言模型训练的算法研究及解码器技术研发；\\n4、负责跟进行业前沿语音技术发展趋势，跟踪国际较新算法发展方向和相关技术；\\n任职资格：\\n1.计算机科学，软件工程，电子，数学，自动化等相关专业，硕士（含）以上；\\n2. 熟悉语音识别，语音唤醒，语音合成，声纹识别技术， 具备扎实的模式识别、机器学习和深度学习等知识基础和丰富的项目研发经验；\\n3、熟练掌握Kaldi，HTK，TensorFlow等社区开源工具中的一种及以上\\n4、精通C/C++，Python，Shell编程语言，对数据结构和算法设计有深刻理解\\n5、有优秀的解决问题能力和面对困难锲而不舍的自驱力。有优秀的团队合作能力者\\n6、具备语音识别，语音唤醒，语音合成领域行业领先企业的工作经验者优先\\n7、在相关国际会议或主流期刊上发表论文者优先（ICASSP，Interspeech，ACL，ICML，NIPS）', '\\n薪资：1.3万-1.8万\\n北京3-5年本科招1人\\n\\n岗位职责\\n\\n1、从事二手互联网行业的市场研究，分析行业及业务现状，预估行业及业务未来的发展；\\n2、参与年度/季度预算编制，并定期进行数据预实对比分析，形成PPT等展示报告；\\n3、主动搜集业务数据，进行分析，制作数据分析报告模板，进行数据整合分析，定期形成业财分析报告；\\n4、及时汇报企业经营状况、财务收支及各项财务计划的具体执行情况，为企业决策层提供财务分析与预测报告，并提出支持性的建议；\\n5、完成上级交办的其他工作。\\n任职要求\\n\\n1、本科及以上学历，统计、财务、计算机、数学、市场相关背景，2年及以上财务数据分析工作经验，了解并热爱汽车或互联网行业，有相关工作经验者优先；\\n2、熟悉定性或定量分析方法，熟练掌握各类数据研究方法与模型，能够出色完成研究报告的撰写； \\n3、对互联网领域富有激情，较强的商业意识和数据思维，优秀的商业分析能力和逻辑思维能力；\\n4、对数据敏感，具备较强的数据操作及分析能力，熟练使用excel、PPT，掌握相关数据分析工具者优先；\\n5、强烈的责任心，工作认真、细致、有条理，执行力强。\\n', '\\n薪资：6千-8千\\n北京无经验本科招2人\\n\\n职位描述\\n\\n1.直接对接客户，能够根据客户公司数据的情况以及数据需求撰写项目方案\\n2.通过数据分析、挖掘、建模、统计，构建数据模型\\n3.通过对项目的实施和整理，撰写项目方案。\\n4.负责客户委托项目整体计划、组织、运作、管理。\\n\\n岗位要求：\\n1.精通Excel和Power BI相关组件，熟悉SQL等工具处理数据。\\n2.R、Python、SPSS、SAS等分析工具至少掌握一种。\\n3.统计学、计算机专业优先。\\n4.三年以上工作经验，能够适应出差。', '薪资：1.5万-3万\\n北京3-5年本科招1人\\n\\n技能要求：\\n目标检测/识别，贝叶斯统计，模型训练\\n 职位描述：\\n1.    针对公司结构监测、风电设施监测等业务需求，开发基于机器学习与信号处理方法的数据分析算法，完成包括数据整理、特征提取、模型训练、系统集成等工作\\n2.    跟踪技术发展前沿，寻求将新式理论或模型用于实际场景的机会，推动公司算法技术发展\\n \\n技术要求：\\n1． 有扎实的数学（包括概率论、随机过程）基础，有优秀的数据敏感性\\n2． 对机器学习、信号处理等方面的算法有深刻理解，能根据不同的实际场景设计算法模型\\n3． 熟练掌握python语言，熟悉tensorflow或其他基于python的深度学习库\\n4． 有结构监测、风电设施监测等行业从事经验者优先、\\n5.    熟悉贝叶斯统计或贝叶斯机器学习方法者优先', '薪资：9千-1.5万\\n北京朝阳区1-3年本科招1人\\n岗位职责:\\n1、实时监测贷款业务的数据变化，为风险策略提供数据支持和改善方案；\\n2、对新的风险政策的执行效果，进行跟踪与结果验证，及时反馈政策效果；\\n3、积极主动地理解业务团队目标，应用分析方法和工具及时高效地实现相应业务的风险管理分析需求。\\n任职要求:\\n1、全日制统招本科及以上学历，统计、数学、物理、计算机、金融等理工类专业优先；\\n2、了解金融信贷经营动作相关的知识，逻辑清晰思路灵活，有相关工作经验优先；\\n3、熟悉使用SQL，及SAS、R、Python中的一种;\\n4、有较强的学习能力和意愿，自主性强，对工作认真负责，沟通能力好，能适应较强工作压力。', '\\n\\n薪资：9千-2万\\n北京海淀区3-5年硕士招1人岗位职责：\\n1.    核心数据挖掘和分析算法研究；\\n2.    算法模块代码开发；\\n3.    配合系统开发工程师完成后端算法API开发；\\n4.    算法和技术文档编写。\\n岗位要求：\\n1.  硕士及以上学历，计算机、通信等相关专业，拥有良好的算法研究基础；\\n2． 有扎实的编程能力，掌握至少一门后端编程语言（Python/Go/Java等）；\\n3． 对操作系统、网络、数据结构和算法有较为深刻的理解；\\n4． 精通Go语言者优先；\\n5． 有独立分析问题、设计方案并解决问题的能力；\\n6． 对开发效率、程序执行性能有严格要求；\\n7． 对技术有激情、有追求，有创新精神，勇于解决技术难题；\\n8． 思路清晰、有较强的逻辑思维和沟通和表达能力；\\n9． 工作认真，责任心强，良好的职业道德。', '\\n薪资：1.8万-3万\\n\\n北京3-5年本科招1人\\n职位描述：\\n岗位职责：\\n1. 利用机器学习技术，改进系统推荐、推送系统，提升用户体验；\\n2. 分析基础数据，挖掘用户兴趣，增强推荐、广告系统的预测能力\\n3. 分析用户行为，挖掘流量潜在商业价值，提升流量转化率和变现能力；\\n\\n任职要求：\\n1. 本科及以上学历，计算机、机器学习等相关专业，2年+工作经验；\\n2. 具备很强的编码能力，熟悉 Linux 开发环境，熟悉 C++ 和 Python 语言\\n3. 有扎实的数据结构和算法功底，熟悉机器学习、自然语言处理、数据挖掘、分布式计算等技术\\n4. 对计算机科学和互联网技术，对人工智能，机器学习有浓厚兴趣；\\n5. 有推荐系统开发经验。', '\\n\\n薪资：1.5万-2.5万\\n北京5-10年本科招1人\\n\\n职位亮点\\n\\n五险一金\\n绩效奖金\\n交通补助\\n餐补\\n通讯补助\\n定期体检\\n创业公司\\n工作居住证\\n职位描述\\n\\n岗位职责：\\n1、负责开发应用于电子束检测系统的图像处理方法，以实现缺陷检测和关键尺寸量测的需求，并编程实施\\n2、负责追踪业界缺陷检测算法发展的方向和趋势，保证算法的先进性，和市场适用性\\n3、缺陷检测算法的总体设计和规划，领导一个5人左右的团队\\n4、确定软件实施方案，任务分解和协调团队完成软件研发任务\\n5、不仅需要协调团队的协同工作，而且需要具有自己动手写代码的能力\\n6、 负责产品的设计文档，为研发和测试提供依据，为客户演示提供技术支持等\\n7、其他与算法有关的工作\\n\\n任职资格：\\n1、四年制本科以上数学、计算机、控制工程、物理学等相关专业学历\\n2、具有扎实的数学功底和优秀的分析和解决问题的能力\\n3、具有图像处理，计算数学和计算机视觉等基本能力\\n4、 熟练使用C/C++、Matlab编程\\n5、具有良好的组织协调能力和团队合作精神\\n6、具有良好的英文读写和交流能力\\n7、在大型装备公司具有类似或相近工作经验的的优先考虑', '\\n薪资：2万-3万\\n北京1-3年硕士招3人\\n职位描述：\\n工作职责： \\n1、参与下一代语音对话系统、智能问答系统、个性化推荐交互的研发，探索非结构化文本理解、知识抽取、对话决策管理、逻辑推理等前沿技术问题的实用化解决方案； \\n2、结合实际业务场景，应用 NLP、AI、ML 技术解决实际问题。 \\n\\n职位要求： \\n1、计算机相关专业硕士及以上学历，3年以上工作经验； \\n2、有扎实的编程基础，精通 C/C++及 Python 语言，对算法和数据结构有深入研究, 有Linux相关平台应用程序开发经验； \\n3、熟悉 NLP 方向的基本技术，对 NLP 方向有整体认知； \\n4、掌握机器学习相关知识，有深度学习算法经验优先；  \\n5、有对话、搜索、推荐等相关项目经验者优先； \\n6、责任心强，有较强的学习能力，较好的沟通交流能力，能够迅速融入团队。', '薪资：1.5万-3万\\n北京海淀区1-3年硕士招1人\\n\\n职位描述：\\n1、负责电力电子产品控制方案及控制流程设计；\\n2、负责电力电子产品控制环路稳定性设计，并据此给出硬件参数需求；\\n3、负责进行电力电子产品控制系统仿真；\\n4、负责控制代码编写和调试；\\n5、同硬件工程师协作，负责电力电子设备样机软硬件联调、故障排查和问题解决；\\n任职资格：\\n1、电力电子相关专业硕士以上学历；\\n2、实际相关产品研发经验2年或以上，有逆变器、变频器、大功率UPS、电源产品研发经验优先；\\n3、精通C/C++等编程语言和主流DSP、ARM开发系统，熟悉常用的串口通讯机制；\\n4、熟练掌握Matlab、PSIM等仿真软件的使用方法；\\n5、精通年便器控制方法和控制算法，熟悉PWM/SVPWM，了解锁相环技术；\\n', '\\n薪资：1.5万-2.5万\\n北京大兴区1-3年硕士招1人\\n\\n1.负责电子束检测设备上缺陷检测算法软件的开发，应用和服务。具体地：应用图像处理的方法检测电子束图像上所呈现的硅片缺陷并生成检测报告；应用图像处理的方法准确地量测芯片结构的关键尺寸。\\n2.负责处理用户在使用中所遇到的缺陷检测和算法问题，包括新型缺陷的分析，新型算法的提出，实现和证实，并将新算法融入下一版本，推广至新老用户。\\n3.负责追踪业界缺陷检测算法发展的方向和趋势，保证算法软件的先进性，和市场适用性。\\n任职要求：\\n1、硕士或博士学历，或具有相关的工作经验的本科学历数学/物理/计算机/电子工程/图像处理 等相关专业\\n2、 很强的数学功底和分析技能；对编程和算法有浓厚的兴趣和热情，至少熟练C/C++/Matlab中一门编程语言，并以此主导完成过至少一个工程项目或研究项目\\n3、掌握图像处理的基础算法和工具库\\n4、具有集成电路设备行业工作经验优先', '薪资：8千-1.5万\\n北京朝阳区3-5年本科招1人\\n\\n岗位职责：\\n1、有较强的数据逻辑基础，精通EXL工具使用；\\n2、推动公司基础数据的标准化，建立市场，销售，人力等部门的基础数据结构及分析报表，后期通过系统实现。；\\n3、主动思考，基于对公司业务，竞品市场数据有定期整理和分析；\\n任职条件：\\n1.全日制统招本科及以上学历，经管、数学、统计学、信息管理相关专业优先，有3-5年以上数据分析工作经验；\\n2.对数据敏感，具高度细节关注力，能从数据中发现规律和问题；\\n3.积极乐观的心态和良好的职业道德；\\n4.具备专业的数据处理和分析能力，精通数据分析工具；\\n5. 良好的沟通及团队协作能力。\\n', '薪资：1.5万-2万\\n北京丰台区1-3年硕士招1人\\n\\n岗位职责\\n1、算法机理研究2、技术方案编制\\n岗位要求\\n1、研究典型大气海洋环境参数反演技术；有过相关项目经历；2、研究基于深度学习的信息提取技术；有过相关项目经历；3、有纵向课题研究经验者优先。\\n', '岗位职责：\\n\\n1. 与我们的客户和机器学习团队一起设计、实施、测试和验证机器学习解决方案\\n2. 与产品经理和软件工程师一起了解产品需求，提供软件解决方案，与Qeexo引擎集成，测试和验证，并在终端设备上部署\\n3. 基于Qeexo产品提高产品性能（新硬件、传感器和交互平台上的建模性能）\\n4. 高效地编写新的机器学习算法并集成到自动化流水线中\\n5. 在消费设备上对Qeexo产品的核心算法进行改进实验\\n6. 分析实际机器学习问题并制定解决方案\\n7. 您将进行产品级编码，还需要实现用于实验和验证的模型/工具\\n\\n\\n技能及要求:\\n\\n1. 全日制硕士及以上学历，硕士毕业需有相关工作经验（有ML相关项目经验者优），博士毕业应届生也可（九八五二一一更优）,CS，AI，EE或ECE等专业\\n2. 在机械学习、数据分析和软件工程等技术领域有良好的学术和/或行业经验\\n3. 具有较强的编程能力，Python(精通)，数据结构与算法(精通)，C / c++(精通)，机器学习(熟悉)\\n4. 了解嵌入式人工智能框架，Caffe, TensorFlow, Karas等相关人工智能框架者优\\n5. 对ML/AI/分类有基本的了解和兴趣\\n6. 对于统计和机器学习方法和问题领域有基本的了解及兴趣\\n7. 在终端环境中能够工作，编写脚本(Bash/Python)处理数据\\n8. 有移动设备或其他消费类电子设备的工作经验\\n9. 具有研究头脑，能独立进行实验\\n10. 熟悉版本控制、构建和发布、持续集成和持续交付。\\n11. 能够支持多个项目，并与中国和美国团队互动\\n12. 自我驱动，注重结果，有组织的个人，优秀的团队合作能力、沟通能力和解决问题的能力\\n13. 具有基本英语会话书写能力\\n经验不限硕士招1人\\n薪资：2.5万-3万\\n\\n', '职位描述\\n1、承担图像处理产品（模块）开发任务，完成算法建模，方案设计，详细设计和编程；测试工作。\\n2、负责医学影像算法研究，包括图像增强，分割以及配准，重建算法等。\\n【任职要求】\\n1、数字图像处理、数字信号处理或相关专业硕士研究生或以上，愿意从事医学图像处理算法的研发应用。\\n2、精通C/C++语言，熟悉VC/.net集成开发环境；能熟练使用C语言及matlab/python语言。有较强的英文阅读水平，且能根据论文编写代码实现算法；有一定的模式识别或机器学习基础，熟悉特征提取，分类器设计，并能用来解决实际问题。\\n3、扎实的数学基础及专业知识；2年图像算法开发经验（含课题阶段）。\\n4、有医疗影像研发，放射或超声系统研发\\n北京经验不限硕士招2人\\n薪资：1.3万-2.5万\\n\\n', '薪资：1万-1.5万\\n北京3-5年本科招3人\\n\\n岗位描述：\\n1.负责WEB\\\\APP等产品数据分析与基于数据的运营优化工作\\n2.负责流量监控、产品、用户行为，变现以及效果评估等分析工作\\n3.负责日常分析报告撰写，为营销渠道优化、平台运营开展，以及产品优化提供决策依据与分析建议\\n4.负责营销流量、用户、订单、客服等相关的各类指标监控，对数据价值化有深刻的理解，支撑精细化运营、日报、周报、月报的优化和分析；\\n5、贴近业务，与产品、运营团队紧密配合，响应并管理各类数据需求，能够形成合理化的产品/运营建议影响决策；\\n6、 快速响应，处理业务相关的临时需求，能够针对重点需求进行数据项目立项；\\n任职资格：\\n1、 3年以上工作经验，具有互联网行业经验者优先；本科以上学历，有相关资格认证者优先；\\n3、 熟悉SQL、Hive、Excel等统计分析软件，熟悉数据挖掘的常用算法，拥有海量数据处理和挖掘经验者优先；\\n4、 逻辑清晰、思维缜密、数据敏感度高，善于把握问题本质，具备良好的沟通、协调和执行能力；\\n5、 具有优秀的团队合作精神；诚实、勤奋、严谨；有独立思考的能力']\n"
     ]
    }
   ],
   "source": [
    "job_requirements = open_zip('职位要求.zip')  #打开职位要求zip中的所有职位的要求\n",
    "print(job_requirements)"
   ]
  },
  {
   "cell_type": "code",
   "execution_count": 4,
   "metadata": {
    "scrolled": true
   },
   "outputs": [
    {
     "data": {
      "text/plain": [
       "16"
      ]
     },
     "execution_count": 4,
     "metadata": {},
     "output_type": "execute_result"
    }
   ],
   "source": [
    "data = job_requirements.copy()   #数据拷贝\n",
    "len(data)"
   ]
  },
  {
   "cell_type": "markdown",
   "metadata": {},
   "source": [
    "### 加载本地词典"
   ]
  },
  {
   "cell_type": "code",
   "execution_count": 5,
   "metadata": {
    "scrolled": true
   },
   "outputs": [
    {
     "name": "stderr",
     "output_type": "stream",
     "text": [
      "Building prefix dict from the default dictionary ...\n",
      "Loading model from cache /var/folders/_4/0d6f0wv952s2rc4jhfhtzstw0000gn/T/jieba.cache\n",
      "Loading model cost 0.675 seconds.\n",
      "Prefix dict has been built succesfully.\n"
     ]
    }
   ],
   "source": [
    "jieba.load_userdict('/anaconda3/lib/python3.7/site-packages/jieba/dict.txt')"
   ]
  },
  {
   "cell_type": "code",
   "execution_count": 6,
   "metadata": {},
   "outputs": [],
   "source": [
    "jieba.load_userdict('my_dict.txt')   #自定义用户词典"
   ]
  },
  {
   "cell_type": "markdown",
   "metadata": {},
   "source": [
    "### 加载停词表"
   ]
  },
  {
   "cell_type": "code",
   "execution_count": 7,
   "metadata": {},
   "outputs": [],
   "source": [
    "with open('中文停用词.txt', 'r') as file:\n",
    "    my_stopwords = file.read()  #感觉没用？"
   ]
  },
  {
   "cell_type": "markdown",
   "metadata": {},
   "source": [
    "### 定义寻找薪资的函数"
   ]
  },
  {
   "cell_type": "code",
   "execution_count": 8,
   "metadata": {},
   "outputs": [],
   "source": [
    "def Find_Money(salary):\n",
    "    '''\n",
    "    找到一个工资里面的数据，并转换为元\n",
    "    有可能有千，万，k，w\n",
    "    salary示例：薪资：20k-21千\n",
    "    返回单位为元的数据：示例[20000.0, 21000.0]\n",
    "    '''\n",
    "    \n",
    "    punc = r'\\d+.\\d+.*?千|\\d+.\\d+.*?万|\\d+.\\d+.*?k|\\d+.\\d+.*?w|\\d+.*?k|\\d+.*?w|\\d+.*?千|\\d+.*?万' \n",
    "    #找到钱的各种可能组合\n",
    "    result = re.findall(punc, salary)  #找到所有钱的组合\n",
    "    yuan = []\n",
    "    for item in result:\n",
    "        digit = re.findall(r'\\d+.\\d+|\\d+', item)[0]   #找到所有数值\n",
    "        if 'k' in item:\n",
    "            yuan.append(float(digit)*1000)\n",
    "        elif '千' in item:\n",
    "            yuan.append(float(digit)*1000)\n",
    "        else:\n",
    "            yuan.append(float(digit)*10000) \n",
    "    return yuan"
   ]
  },
  {
   "cell_type": "code",
   "execution_count": 9,
   "metadata": {
    "scrolled": true
   },
   "outputs": [
    {
     "data": {
      "text/plain": [
       "[13000.0, 18000.0]"
      ]
     },
     "execution_count": 9,
     "metadata": {},
     "output_type": "execute_result"
    }
   ],
   "source": [
    "Find_Money('薪资：13千 -1.8万')"
   ]
  },
  {
   "cell_type": "markdown",
   "metadata": {},
   "source": [
    "### 定义职位和薪资要求区分函数"
   ]
  },
  {
   "cell_type": "code",
   "execution_count": 10,
   "metadata": {},
   "outputs": [],
   "source": [
    "def Salary_Require(data, top = 10):\n",
    "    '''data是每一条含有薪资的职位要求'''\n",
    "    '''返回薪资的平均值和前top个职位要求, 默认10'''\n",
    "    data_cut = []  #将薪资和分词结果放在一行\n",
    "    for item in data:\n",
    "        salary_str =re.findall(r'薪资.*?\\n', item)[0]  #提取后的薪资str，示例：‘薪资8千-5万’\n",
    "        salary = np.mean(Find_Money(salary_str))  #对薪资去均值\n",
    "        require_cut = jieba.analyse.extract_tags(item.lower(), topK = top)   #分词结果提取前top个，用于筛选\n",
    "        data_cut.append([salary, require_cut])   #将结果放在data_cut中\n",
    "    return data_cut"
   ]
  },
  {
   "cell_type": "code",
   "execution_count": 11,
   "metadata": {
    "scrolled": false
   },
   "outputs": [
    {
     "data": {
      "text/plain": [
       "[[30000.0, ['语音识别', '语音合成', '语音唤醒', '语音']],\n",
       " [15500.0, ['分析', '数据分析', 'ppt', '工作经验']],\n",
       " [7000.0, ['项目', '客户', '撰写', '数据']],\n",
       " [22500.0, ['机器学习', '贝叶斯', '算法', '监测']],\n",
       " [12000.0, ['本科', '业务', '优先', '1.5']],\n",
       " [14500.0, ['算法', '算法研究', 'go', '开发']],\n",
       " [24000.0, ['机器学习', '用户', '系统', '熟悉']],\n",
       " [20000.0, ['算法', '检测', '具有', '能力']],\n",
       " [25000.0, ['nlp', '对话', '硕士', '算法']],\n",
       " [22500.0, ['电力', '负责', '电子产品', '控制']],\n",
       " [20000.0, ['算法', '图像处理', '检测', '缺陷']],\n",
       " [11500.0, ['数据分析', '数据', '本科', '精通']],\n",
       " [17500.0, ['研究', '有过', '技术', '环境参数']],\n",
       " [27500.0, ['机器学习', 'qeexo', '产品', '硕士']],\n",
       " [19000.0, ['算法', '图像处理', '研发', '语言']],\n",
       " [12500.0, ['运营', '优化', '数据', '负责']]]"
      ]
     },
     "execution_count": 11,
     "metadata": {},
     "output_type": "execute_result"
    }
   ],
   "source": [
    "Salary_Require(data, 4)"
   ]
  },
  {
   "cell_type": "markdown",
   "metadata": {},
   "source": [
    "----\n",
    "## 文本词频处理\n",
    "### 搭建词频数据框"
   ]
  },
  {
   "cell_type": "code",
   "execution_count": 12,
   "metadata": {},
   "outputs": [],
   "source": [
    "column_name = ['salary', '机器学习', '硕士', 'python', 'sql', '算法', '数据分析']  #手动输入自变量"
   ]
  },
  {
   "cell_type": "code",
   "execution_count": 13,
   "metadata": {},
   "outputs": [],
   "source": [
    "#定义词语搜索函数\n",
    "def Search(strr, item):\n",
    "    '''判断字符串strr是否在item中，如果在返回1，不在返回0'''\n",
    "    if strr in item:\n",
    "        return 1\n",
    "    else:\n",
    "        return 0"
   ]
  },
  {
   "cell_type": "code",
   "execution_count": 14,
   "metadata": {},
   "outputs": [
    {
     "data": {
      "text/plain": [
       "0"
      ]
     },
     "execution_count": 14,
     "metadata": {},
     "output_type": "execute_result"
    }
   ],
   "source": [
    "Search('ss', ['s', 'qq'])"
   ]
  },
  {
   "cell_type": "code",
   "execution_count": 15,
   "metadata": {},
   "outputs": [],
   "source": [
    "word_frequence = pd.DataFrame(columns = column_name)  #构建一个空的DataFrame\n",
    "salary_require = Salary_Require(data, 50)    #找出薪资数据和分词结果（50个）\n",
    "\n",
    "for i in range(len(salary_require)):\n",
    "    df = []   #定义一个空的df用于记录每一行的数据\n",
    "    for item in column_name:  #按照所定义的几个重要的变量一次查看是否有该变量\n",
    "        if item == 'salary':  #如果是工资，则直接将工资放在这一列\n",
    "            df.append(salary_require[i][0])   #i：第i个职位， 0：第i个职位的薪资（取了均值）\n",
    "        else:\n",
    "            df.append(Search(item, salary_require[i][1]))  #如果不是工资，则将结果0，1返回到df中\n",
    "    word_frequence.loc[i] = df   ##将做一次的结果放在dataframe中"
   ]
  },
  {
   "cell_type": "code",
   "execution_count": 16,
   "metadata": {},
   "outputs": [
    {
     "data": {
      "text/html": [
       "<div>\n",
       "<style scoped>\n",
       "    .dataframe tbody tr th:only-of-type {\n",
       "        vertical-align: middle;\n",
       "    }\n",
       "\n",
       "    .dataframe tbody tr th {\n",
       "        vertical-align: top;\n",
       "    }\n",
       "\n",
       "    .dataframe thead th {\n",
       "        text-align: right;\n",
       "    }\n",
       "</style>\n",
       "<table border=\"1\" class=\"dataframe\">\n",
       "  <thead>\n",
       "    <tr style=\"text-align: right;\">\n",
       "      <th></th>\n",
       "      <th>salary</th>\n",
       "      <th>机器学习</th>\n",
       "      <th>硕士</th>\n",
       "      <th>python</th>\n",
       "      <th>sql</th>\n",
       "      <th>算法</th>\n",
       "      <th>数据分析</th>\n",
       "    </tr>\n",
       "  </thead>\n",
       "  <tbody>\n",
       "    <tr>\n",
       "      <th>0</th>\n",
       "      <td>30000.0</td>\n",
       "      <td>1.0</td>\n",
       "      <td>1.0</td>\n",
       "      <td>1.0</td>\n",
       "      <td>0.0</td>\n",
       "      <td>1.0</td>\n",
       "      <td>0.0</td>\n",
       "    </tr>\n",
       "    <tr>\n",
       "      <th>1</th>\n",
       "      <td>15500.0</td>\n",
       "      <td>0.0</td>\n",
       "      <td>0.0</td>\n",
       "      <td>0.0</td>\n",
       "      <td>0.0</td>\n",
       "      <td>0.0</td>\n",
       "      <td>1.0</td>\n",
       "    </tr>\n",
       "    <tr>\n",
       "      <th>2</th>\n",
       "      <td>7000.0</td>\n",
       "      <td>0.0</td>\n",
       "      <td>0.0</td>\n",
       "      <td>1.0</td>\n",
       "      <td>1.0</td>\n",
       "      <td>0.0</td>\n",
       "      <td>1.0</td>\n",
       "    </tr>\n",
       "    <tr>\n",
       "      <th>3</th>\n",
       "      <td>22500.0</td>\n",
       "      <td>1.0</td>\n",
       "      <td>0.0</td>\n",
       "      <td>1.0</td>\n",
       "      <td>0.0</td>\n",
       "      <td>1.0</td>\n",
       "      <td>1.0</td>\n",
       "    </tr>\n",
       "    <tr>\n",
       "      <th>4</th>\n",
       "      <td>12000.0</td>\n",
       "      <td>0.0</td>\n",
       "      <td>0.0</td>\n",
       "      <td>1.0</td>\n",
       "      <td>1.0</td>\n",
       "      <td>0.0</td>\n",
       "      <td>0.0</td>\n",
       "    </tr>\n",
       "    <tr>\n",
       "      <th>5</th>\n",
       "      <td>14500.0</td>\n",
       "      <td>0.0</td>\n",
       "      <td>1.0</td>\n",
       "      <td>1.0</td>\n",
       "      <td>0.0</td>\n",
       "      <td>1.0</td>\n",
       "      <td>0.0</td>\n",
       "    </tr>\n",
       "    <tr>\n",
       "      <th>6</th>\n",
       "      <td>24000.0</td>\n",
       "      <td>1.0</td>\n",
       "      <td>0.0</td>\n",
       "      <td>1.0</td>\n",
       "      <td>0.0</td>\n",
       "      <td>1.0</td>\n",
       "      <td>0.0</td>\n",
       "    </tr>\n",
       "    <tr>\n",
       "      <th>7</th>\n",
       "      <td>20000.0</td>\n",
       "      <td>0.0</td>\n",
       "      <td>0.0</td>\n",
       "      <td>0.0</td>\n",
       "      <td>0.0</td>\n",
       "      <td>1.0</td>\n",
       "      <td>0.0</td>\n",
       "    </tr>\n",
       "    <tr>\n",
       "      <th>8</th>\n",
       "      <td>25000.0</td>\n",
       "      <td>1.0</td>\n",
       "      <td>1.0</td>\n",
       "      <td>1.0</td>\n",
       "      <td>0.0</td>\n",
       "      <td>1.0</td>\n",
       "      <td>0.0</td>\n",
       "    </tr>\n",
       "    <tr>\n",
       "      <th>9</th>\n",
       "      <td>22500.0</td>\n",
       "      <td>0.0</td>\n",
       "      <td>1.0</td>\n",
       "      <td>0.0</td>\n",
       "      <td>0.0</td>\n",
       "      <td>0.0</td>\n",
       "      <td>0.0</td>\n",
       "    </tr>\n",
       "    <tr>\n",
       "      <th>10</th>\n",
       "      <td>20000.0</td>\n",
       "      <td>0.0</td>\n",
       "      <td>1.0</td>\n",
       "      <td>0.0</td>\n",
       "      <td>0.0</td>\n",
       "      <td>1.0</td>\n",
       "      <td>0.0</td>\n",
       "    </tr>\n",
       "    <tr>\n",
       "      <th>11</th>\n",
       "      <td>11500.0</td>\n",
       "      <td>0.0</td>\n",
       "      <td>0.0</td>\n",
       "      <td>0.0</td>\n",
       "      <td>0.0</td>\n",
       "      <td>0.0</td>\n",
       "      <td>1.0</td>\n",
       "    </tr>\n",
       "    <tr>\n",
       "      <th>12</th>\n",
       "      <td>17500.0</td>\n",
       "      <td>0.0</td>\n",
       "      <td>1.0</td>\n",
       "      <td>0.0</td>\n",
       "      <td>0.0</td>\n",
       "      <td>1.0</td>\n",
       "      <td>0.0</td>\n",
       "    </tr>\n",
       "    <tr>\n",
       "      <th>13</th>\n",
       "      <td>27500.0</td>\n",
       "      <td>1.0</td>\n",
       "      <td>1.0</td>\n",
       "      <td>1.0</td>\n",
       "      <td>0.0</td>\n",
       "      <td>1.0</td>\n",
       "      <td>0.0</td>\n",
       "    </tr>\n",
       "    <tr>\n",
       "      <th>14</th>\n",
       "      <td>19000.0</td>\n",
       "      <td>1.0</td>\n",
       "      <td>1.0</td>\n",
       "      <td>1.0</td>\n",
       "      <td>0.0</td>\n",
       "      <td>1.0</td>\n",
       "      <td>0.0</td>\n",
       "    </tr>\n",
       "    <tr>\n",
       "      <th>15</th>\n",
       "      <td>12500.0</td>\n",
       "      <td>0.0</td>\n",
       "      <td>0.0</td>\n",
       "      <td>0.0</td>\n",
       "      <td>1.0</td>\n",
       "      <td>0.0</td>\n",
       "      <td>1.0</td>\n",
       "    </tr>\n",
       "  </tbody>\n",
       "</table>\n",
       "</div>"
      ],
      "text/plain": [
       "     salary  机器学习   硕士  python  sql   算法  数据分析\n",
       "0   30000.0   1.0  1.0     1.0  0.0  1.0   0.0\n",
       "1   15500.0   0.0  0.0     0.0  0.0  0.0   1.0\n",
       "2    7000.0   0.0  0.0     1.0  1.0  0.0   1.0\n",
       "3   22500.0   1.0  0.0     1.0  0.0  1.0   1.0\n",
       "4   12000.0   0.0  0.0     1.0  1.0  0.0   0.0\n",
       "5   14500.0   0.0  1.0     1.0  0.0  1.0   0.0\n",
       "6   24000.0   1.0  0.0     1.0  0.0  1.0   0.0\n",
       "7   20000.0   0.0  0.0     0.0  0.0  1.0   0.0\n",
       "8   25000.0   1.0  1.0     1.0  0.0  1.0   0.0\n",
       "9   22500.0   0.0  1.0     0.0  0.0  0.0   0.0\n",
       "10  20000.0   0.0  1.0     0.0  0.0  1.0   0.0\n",
       "11  11500.0   0.0  0.0     0.0  0.0  0.0   1.0\n",
       "12  17500.0   0.0  1.0     0.0  0.0  1.0   0.0\n",
       "13  27500.0   1.0  1.0     1.0  0.0  1.0   0.0\n",
       "14  19000.0   1.0  1.0     1.0  0.0  1.0   0.0\n",
       "15  12500.0   0.0  0.0     0.0  1.0  0.0   1.0"
      ]
     },
     "execution_count": 16,
     "metadata": {},
     "output_type": "execute_result"
    }
   ],
   "source": [
    "word_frequence"
   ]
  },
  {
   "cell_type": "markdown",
   "metadata": {},
   "source": [
    "### 构建线性回归模型"
   ]
  },
  {
   "cell_type": "code",
   "execution_count": 17,
   "metadata": {},
   "outputs": [],
   "source": [
    "#利用最小二乘法自定义一个线性回归函数\n",
    "class linear_regression(object):\n",
    "    '''\n",
    "    使用最小二乘法计算线性回归的系数:\n",
    "    fit(X, y, intercept = True)模型搭建，传回系数\n",
    "    X：自变量数据，array格式\n",
    "    y：因变量数据，array格式，行向量\n",
    "    intercept：截距项，默认True，有截距\n",
    "    \n",
    "    predict(X)模型预测值\n",
    "    X：预测值自变量 array格式\n",
    "    '''\n",
    "    def __init__(self): #self class自身变量，有两个属性：beta和intercept\n",
    "        self.beta = None\n",
    "        self.intercept = None  #是否有截距\n",
    "\n",
    "#定义回归模型函数\n",
    "    def fit(self, X, y, intercept = True):\n",
    "        self.intercept = intercept  #是否有截距项\n",
    "        \n",
    "        if self.intercept == True: #如果为False,则X不作处理\n",
    "            X = np.insert(X, 0, 1, axis=1)   #第0列全部插入1， 默认是有截距项的\n",
    "            print('模型中有截距项！')\n",
    "        else:\n",
    "            print('模型中无截距项！')\n",
    "        \n",
    "        XTX_1 = np.linalg.inv(X.T.dot(X))  #求XTX的逆\n",
    "        self.beta = XTX_1.dot(X.T).dot(y)  #得到了系数beta\n",
    "        \n",
    "        return self.beta  #fit后得到系数\n",
    "        \n",
    "##定义预测函数：\n",
    "    def predict(self, X):  #输入X,注意X是个np.array的行向量\n",
    "        \n",
    "        if self.intercept == True: #如果为False,则X不作处理\n",
    "            X = np.insert(X, 0, 1, axis=1)   #第0列全部插入1\n",
    "        y_pred = X.dot(self.beta)\n",
    "        \n",
    "        return y_pred"
   ]
  },
  {
   "cell_type": "code",
   "execution_count": 18,
   "metadata": {},
   "outputs": [
    {
     "name": "stdout",
     "output_type": "stream",
     "text": [
      "[[1. 1. 1. 0. 1. 0.]\n",
      " [0. 0. 0. 0. 0. 1.]\n",
      " [0. 0. 1. 1. 0. 1.]\n",
      " [1. 0. 1. 0. 1. 1.]\n",
      " [0. 0. 1. 1. 0. 0.]\n",
      " [0. 1. 1. 0. 1. 0.]\n",
      " [1. 0. 1. 0. 1. 0.]\n",
      " [0. 0. 0. 0. 1. 0.]\n",
      " [1. 1. 1. 0. 1. 0.]\n",
      " [0. 1. 0. 0. 0. 0.]\n",
      " [0. 1. 0. 0. 1. 0.]\n",
      " [0. 0. 0. 0. 0. 1.]\n",
      " [0. 1. 0. 0. 1. 0.]\n",
      " [1. 1. 1. 0. 1. 0.]\n",
      " [1. 1. 1. 0. 1. 0.]\n",
      " [0. 0. 0. 1. 0. 1.]] \n",
      "\n",
      "[30000. 15500.  7000. 22500. 12000. 14500. 24000. 20000. 25000. 22500.\n",
      " 20000. 11500. 17500. 27500. 19000. 12500.]\n"
     ]
    }
   ],
   "source": [
    "# 利用自定义回归函数进行拟合\n",
    "X_train = np.array(word_frequence.iloc[:, 1:])  #训练集\n",
    "y_train = np.array(word_frequence.iloc[:,0])\n",
    "print(X_train, '\\n')\n",
    "print(y_train)"
   ]
  },
  {
   "cell_type": "code",
   "execution_count": 19,
   "metadata": {},
   "outputs": [
    {
     "name": "stdout",
     "output_type": "stream",
     "text": [
      "模型中有截距项！\n"
     ]
    },
    {
     "data": {
      "text/plain": [
       "array([19571.42857143, 11383.11688312,   577.92207792, -5136.36363636,\n",
       "       -2383.11688312,  -720.77922078, -4896.1038961 ])"
      ]
     },
     "execution_count": 19,
     "metadata": {},
     "output_type": "execute_result"
    }
   ],
   "source": [
    "#模型fit\n",
    "my_linear_model = linear_regression()\n",
    "my_linear_model.fit(X_train, y_train)"
   ]
  },
  {
   "cell_type": "code",
   "execution_count": 20,
   "metadata": {},
   "outputs": [
    {
     "data": {
      "text/plain": [
       "array([18396.1038961])"
      ]
     },
     "execution_count": 20,
     "metadata": {},
     "output_type": "execute_result"
    }
   ],
   "source": [
    "###做个预测\n",
    "X_pre = np.array([1, 1, 1, 1, 1, 1]).reshape(1, -1)  #输入的值是一个行向量\n",
    "my_linear_model.predict(X_pre)"
   ]
  },
  {
   "cell_type": "markdown",
   "metadata": {},
   "source": [
    "### 利用$sklearn$中的$linear\\_model$做回归"
   ]
  },
  {
   "cell_type": "code",
   "execution_count": 21,
   "metadata": {},
   "outputs": [],
   "source": [
    "X = word_frequence.iloc[:, 1:] #定义数据\n",
    "y = word_frequence.iloc[:, 0]\n",
    "#print(X, '\\n', y)"
   ]
  },
  {
   "cell_type": "code",
   "execution_count": 22,
   "metadata": {},
   "outputs": [],
   "source": [
    "lm = linear_model.LinearRegression(fit_intercept = True, normalize = False) #有截距，数据不做标准化\n",
    "result = lm.fit(X,y)"
   ]
  },
  {
   "cell_type": "code",
   "execution_count": 23,
   "metadata": {},
   "outputs": [
    {
     "data": {
      "text/plain": [
       "0.842844159859516"
      ]
     },
     "execution_count": 23,
     "metadata": {},
     "output_type": "execute_result"
    }
   ],
   "source": [
    "result.score(X,y)   #查看R^2"
   ]
  },
  {
   "cell_type": "code",
   "execution_count": 24,
   "metadata": {},
   "outputs": [
    {
     "data": {
      "text/plain": [
       "array([11383.11688312,   577.92207792, -5136.36363636, -2383.11688312,\n",
       "        -720.77922078, -4896.1038961 ])"
      ]
     },
     "execution_count": 24,
     "metadata": {},
     "output_type": "execute_result"
    }
   ],
   "source": [
    "result.coef_  #查看自变量系数"
   ]
  },
  {
   "cell_type": "code",
   "execution_count": 25,
   "metadata": {},
   "outputs": [
    {
     "data": {
      "text/plain": [
       "19571.42857142857"
      ]
     },
     "execution_count": 25,
     "metadata": {},
     "output_type": "execute_result"
    }
   ],
   "source": [
    "result.intercept_  #查看截距项"
   ]
  },
  {
   "cell_type": "code",
   "execution_count": 26,
   "metadata": {},
   "outputs": [
    {
     "data": {
      "text/plain": [
       "array([18396.1038961])"
      ]
     },
     "execution_count": 26,
     "metadata": {},
     "output_type": "execute_result"
    }
   ],
   "source": [
    "#预测\n",
    "X0 = ([[1,1,1,1,1,1]])\n",
    "lm.predict(X0)"
   ]
  },
  {
   "cell_type": "markdown",
   "metadata": {},
   "source": [
    "----\n",
    "## 总结"
   ]
  },
  {
   "cell_type": "markdown",
   "metadata": {},
   "source": [
    "* 通过线性回归结果可以看出，回归的$R^2$=0.84，模型拟合就好。但是，观察所选变量的系数，python、sql、算法和数据分析的系数均为负数，显然不符合意义。\n",
    "* 可能是由于数据太少，只有16个观测值导致的，所以后续还需要继续改进。"
   ]
  }
 ],
 "metadata": {
  "kernelspec": {
   "display_name": "Python 3",
   "language": "python",
   "name": "python3"
  },
  "language_info": {
   "codemirror_mode": {
    "name": "ipython",
    "version": 3
   },
   "file_extension": ".py",
   "mimetype": "text/x-python",
   "name": "python",
   "nbconvert_exporter": "python",
   "pygments_lexer": "ipython3",
   "version": "3.7.2"
  }
 },
 "nbformat": 4,
 "nbformat_minor": 2
}
