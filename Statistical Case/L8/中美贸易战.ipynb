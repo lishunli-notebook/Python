{
 "cells": [
  {
   "cell_type": "markdown",
   "metadata": {},
   "source": [
    "# *中美贸易战*——国内外新闻分析\n",
    "###    李顺立 房鸿宇 徐嘉 裴婷 曲咏晗\n",
    "### 2019.05.14\n",
    "----\n",
    "----"
   ]
  },
  {
   "cell_type": "markdown",
   "metadata": {},
   "source": [
    "## 中新网爬取中美贸易战新闻\n",
    "+ 导入模块\n",
    "+ 使用selenium打开浏览器\n",
    "+ 定义根据链接查找新闻的函数（使用request）url\\_get\\_content(url)\n",
    "+ 定义时间转化函数time\\_trans(time\\_need)\n",
    "+ 定义中新网爬取函数china_news(pages=5)\n",
    "+ 结果预览\n",
    "\n",
    "## WashingtongPost网站爬取\n",
    "* 定义WashingtonPost网站爬取函数Washington_Post_news(page=5)\n",
    "* 数据处理\n",
    "----"
   ]
  },
  {
   "cell_type": "markdown",
   "metadata": {},
   "source": [
    "### 导入模块"
   ]
  },
  {
   "cell_type": "code",
   "execution_count": 1,
   "metadata": {},
   "outputs": [],
   "source": [
    "import time\n",
    "from selenium.webdriver.chrome.options import Options\n",
    "import numpy as np\n",
    "from selenium import webdriver\n",
    "import pandas as pd\n",
    "import re\n",
    "import os\n",
    "import requests                        #打开链接\n",
    "from bs4 import BeautifulSoup          #解码链接\n",
    "from urllib.parse import urlencode     #输入内容转码\n",
    "\n",
    "from sklearn.feature_extraction.text import TfidfVectorizer\n",
    "import jieba\n",
    "time.sleep(np.random.rand()+0.5)"
   ]
  },
  {
   "cell_type": "markdown",
   "metadata": {},
   "source": [
    "----\n",
    "### 使用selenium打开浏览器"
   ]
  },
  {
   "cell_type": "code",
   "execution_count": 2,
   "metadata": {},
   "outputs": [],
   "source": [
    "##不打开浏览器\n",
    "options = Options() \n",
    "options.add_argument(\"--headless\") \n",
    "\n",
    "\n",
    "#打开浏览器\n",
    "driver = webdriver.Chrome()   #options = options\n",
    "driver.get('http://sou.chinanews.com/search.do')  #打开链接\n",
    "\n",
    "driver.find_element_by_xpath('//*[@id=\"q\"]').send_keys('中美贸易战') #输入关键词\n",
    "driver.find_element_by_xpath('/html/body/div[2]/form/table/tbody/tr/td/table/tbody/tr[2]/td[1]/input[2]').click()   #点击搜索"
   ]
  },
  {
   "cell_type": "markdown",
   "metadata": {},
   "source": [
    "----\n",
    "### 定义根据链接查找新闻的函数（使用request）url_get_content(url)"
   ]
  },
  {
   "cell_type": "code",
   "execution_count": 72,
   "metadata": {},
   "outputs": [],
   "source": [
    "def url_get_content(url):\n",
    "    \"\"\"\n",
    "    该函数根据所传入的字符串类型的链接url获取该页的内容\n",
    "    示例：url = 'https://baidu.com'\n",
    "    结果：输出为预处理后的结果\n",
    "    \"\"\"\n",
    "    content = ''\n",
    "    try:\n",
    "        html = requests.get(url) #, cookies = cookies, headers = headers) #打开链接  #伪装成真实的访问者\n",
    "        soup = BeautifulSoup(html.content, \"html.parser\")  #解码链接\n",
    "        content0 = soup.find('div', {\"class\": \"left_zw\"}).get_text() #解码后找到相应内容\n",
    "        content1 = ','.join(re.findall(r'\\w+', content0))  #处理初始数据\n",
    "        \n",
    "        #试图处理数据\n",
    "        try:\n",
    "            remove = re.findall(r'function.*?fix', content1)[0]  \n",
    "            content = content1.replace(remove, '')\n",
    "        except:\n",
    "            content  = content1\n",
    "            \n",
    "    except:\n",
    "        pass\n",
    "    \n",
    "    return content"
   ]
  },
  {
   "cell_type": "code",
   "execution_count": 74,
   "metadata": {
    "scrolled": false
   },
   "outputs": [
    {
     "name": "stderr",
     "output_type": "stream",
     "text": [
      "Some characters could not be decoded, and were replaced with REPLACEMENT CHARACTER.\n"
     ]
    },
    {
     "data": {
      "text/plain": [
       "'中新网4月26日电,今天,由创业黑马主办,全面战略合作伙伴汇桔网支持的,2019教育未来产业峰会,暨黑马教育产业大课,在京举行,创业黑马董事长,黑马学院院长牛文文出席活动,并以,教育产业如何重做,为主题发表了演讲,创业黑马董事长,黑马学院院长牛文文,牛文文在演讲中表示,大数据,人工智能等技术和基础设施的发展,为教育产业的升级提供了一个很好的基础,教育是有限用户,讲究精准,匹配,算法,算力等技术对此至关重要,此外,牛文文还提到,教育领域创业者在创业时一定不要忘记,社会公众价值大于用户价值,他指出,这些年来,创业黑马在企业家导师,投资人导师方面的积累非常雄厚,而且,至今为止,黑马社群中有几十家上市公司,比如尚德教育和51talk都在美国上市了,徐小平老师和俞敏洪老师也一直陪伴着创业黑马,此外,创业黑马和蓝象资本开设了教育产业实验室,和华图教育联合创始人于洪泽老师开设了教育产业实验室,今天还会发布几个教育产业实验室,希望能够与教育领域的上市公司,龙头企业,投资机构一起探讨行业未来,帮助创业者做成长加速辅导,创业黑马高级副总裁罗浛予,在峰会上,创业黑马高级副总裁罗浛予宣布黑马教育产业实验室正式发布,罗浛予表示,教育产业实验室带给创业者的是解析教育产业头部公司成长案例,让创业者学习教育产业独角兽成长的关键一招,实验室分为四个模块,一,搞定模式,搭建满足用户需求的创新模式,二,搞定产品,打造具备产品力与口碑的爆款产品,三,搞定团队,构建具有战斗力的团队与团队运营赋能,四,搞定资源,打通链接头部企业与资本市场的通道,目前,黑马教育产业实验室已入驻头部企业包括华图教育,VIPKID,瑞思英语,达内教育,开元股份,中大英才,腾讯课堂,iTutorGroup,高思教育,慧科集团,松鼠AI智适应教育,21世纪教育和用友新道等,黑马教育产业实验室具体以,商学院,孵化器模式,方式链接产业资源,拆解行业标杆案例,模拟企业发展路径,升级商业模式,对接产业资本,打造商业IP,在黑马教育产业实验室里,学员将获得教育产业最前沿的商业方法论,商业模式深度梳理与优化和产业上中下游资源及资本链接,2019教育未来产业峰会,暨黑马教育产业大课,在京举行,让中小创业者在巨头的赋能下产业升级,近年来,在互联网技术,消费升级,中美贸易战的宏观环境催化下,中国产业面临新一轮升级挑战,每个垂直产业中的上,中,下游企业,都面临着模式,管理,资本,渠道的全面升级挑战,这种背景下,2019年将是教育产业发展至关重要的一年,一方面,好未来市值突破200亿美元大关,VIPKID单笔融资5亿美元,港股教育企业争相排队,AI,教育在K12和英语等细分领域找到落地场景,素质教育迎来春天,职业教育东风已至,教育产业高速发展的企业开始不断涌现,另一方面,随着政策法规的相继出台,校外培训面临大洗牌,幼儿园上市路走到尽头,在线教育企业暴雷,裁员潮蔓延至教育行业,企业流血上市,估值倒挂,创业项目的高估值,快融资已经成为过去,在以上机遇与挑战并存的情况下,创业黑马与产业先进标杆共举变革升级旗帜,成立教育产业实验室,就是为了系统梳理头部公司产业方法论,拆解行业标杆公司成功的,关键一招,链接产业上,中,下游商业资源,组建,抱团升级,的产业创新群组,帮助教育产业中小创业者,一起掘金万亿级教育市场,'"
      ]
     },
     "execution_count": 74,
     "metadata": {},
     "output_type": "execute_result"
    }
   ],
   "source": [
    "url = 'http://www.chinanews.com/business/2019/04-26/8821443.shtml'\n",
    "url_get_content(url)"
   ]
  },
  {
   "cell_type": "markdown",
   "metadata": {},
   "source": [
    "----\n",
    "### 定义时间转化函数time_trans(time_need)"
   ]
  },
  {
   "cell_type": "code",
   "execution_count": 73,
   "metadata": {},
   "outputs": [],
   "source": [
    "def time_trans(time_need):\n",
    "    \"\"\"\n",
    "    将时间为s的数据转化为 x天xx:xx:xx的形式\n",
    "    \"\"\"\n",
    "    hour = time_need // 3600 #整除,求小时数\n",
    "    days = hour // 24 #求天数\n",
    "    hours = hour % 24 #求小时数\n",
    "    minutes = (time_need % 3600) // 60 #先取余数，再取整除，求分钟数\n",
    "    seconds =  (time_need % 3600) % 60    #求秒数\n",
    "    \n",
    "    return days,hours,minutes,seconds  #返回时间"
   ]
  },
  {
   "cell_type": "code",
   "execution_count": 75,
   "metadata": {},
   "outputs": [
    {
     "name": "stdout",
     "output_type": "stream",
     "text": [
      "0天 01: 16: 40\n"
     ]
    }
   ],
   "source": [
    "days,hours,minutes,seconds = time_trans(4600)\n",
    "print('%d天 %02.0f: %02.0f: %02.0f'%(days,hours,minutes,seconds))"
   ]
  },
  {
   "cell_type": "markdown",
   "metadata": {},
   "source": [
    "----\n",
    "## 定义中新网爬取函数china_news(pages=5)\n",
    "[中新网搜索](http://sou.chinanews.com/search.do)"
   ]
  },
  {
   "cell_type": "code",
   "execution_count": 6,
   "metadata": {},
   "outputs": [],
   "source": [
    "def china_news(pages = 5):\n",
    "    \"\"\"\n",
    "    使用selemiun打开网址后，调用该函数，可以得到中新网的新闻内容。\n",
    "    参数pages表示新闻内容的页数，默认为5页。\n",
    "    返回值为包含【标题，链接，时间，内容】DataFrame格式的数据\n",
    "    \n",
    "    \"\"\"\n",
    "\n",
    "\n",
    "    import time as TM\n",
    "\n",
    "    time_begin = TM.time()  #初始化时间\n",
    "    col = 0  #查找的第i个内容\n",
    "    page = 1    #初始化页数\n",
    "    column_name = ['title', 'url', 'date_time', 'content']   #所获取的内容\n",
    "    data = pd.DataFrame(columns=column_name)  #初始化结果\n",
    "    \n",
    "    print('-----'*8, '\\n准备爬取第1页的内容！！')\n",
    "    os.system('say \"准备爬取第1页的内容!\"')\n",
    "    \n",
    "    while page <= pages:  #页数还没爬完就继续\n",
    "        \n",
    "        key = True  #判断是否爬完了某一页的所有内容\n",
    "        i = 1   #初始化当前页的新闻个数\n",
    "        \n",
    "        while key:  #爬取当前页的内容\n",
    "            \n",
    "            try:\n",
    "\n",
    "                url = '//*[@id=\"news_list\"]/table[%s]'%(i)   #第i个新闻的位置\n",
    "                title_url = '/tbody/tr[1]/td[2]/ul/li[1]/a'   #第i个新闻的标题位置\n",
    "                date_time_url = '/tbody/tr[2]/td/ul/li'   #第i个新闻的时间信息，包含了链接和时间\n",
    "\n",
    "\n",
    "                title = driver.find_element_by_xpath(url+title_url).text  #标题\n",
    "                href = driver.find_element_by_xpath(url+title_url).get_attribute('href')  #链接\n",
    "                date_time0 = driver.find_element_by_xpath(url+date_time_url).text #时间+链接\n",
    "                date_time = re.findall(r'\\d\\d\\d\\d-\\d\\d-\\d\\d \\d\\d:\\d\\d:\\d\\d', date_time0)[0]  #只要时间\n",
    "                content = url_get_content(href)  #获得链接中的内容\n",
    "\n",
    "                #整理数据到data\n",
    "                data.loc[col, :] = [title, href, date_time, content]\n",
    "\n",
    "                i += 1  #更新到下一个新闻\n",
    "                col += 1  #更新col index\n",
    "                \n",
    "                ##每10条数据休息一会并告知我\n",
    "                if col % 10 == 0:\n",
    "                    print('已经爬取数据%s条！'%(col))  \n",
    "                    os.system('say \"叮叮\"')\n",
    "                    os.system('say \"%s\"'%(col))\n",
    "                    TM.sleep(np.random.rand()+3)   #每爬完一页的内容多休息一会\n",
    "                \n",
    "                TM.sleep(np.random.rand()+1)  #每爬完一个新闻暂停一会\n",
    "\n",
    "            except:\n",
    "                key = False\n",
    "                \n",
    "                ##估算剩余时间\n",
    "                time_cost = TM.time() - time_begin  #当前所用时间\n",
    "                print('已经用时%.2f秒!!'%(time_cost))\n",
    "                time_mean = time_cost/page  #当前每页的平均时间        \n",
    "                time_need = time_mean*(pages-page)   #剩余页数的时间\n",
    "                days,hours,minutes,seconds = time_trans(time_need)  #单位为秒的时间数据处理为日期\n",
    "                print('预计还需用时\\\"%d天%02.0f:%02.0f:%02.0f\\\"!'%(days, hours, minutes, seconds))\n",
    "                print('-----'*4)\n",
    "                \n",
    "                page += 1   #更新到下一页\n",
    "                if page <= pages:\n",
    "                    print('正在爬取第%s页的内容！！'%(page))\n",
    "                    os.system('say \"正在爬取第%s页的内容\"'%(page))\n",
    "                    ##点击下一页\n",
    "                    driver.find_element_by_link_text('下一页').click()   #点击下一页\n",
    "                \n",
    "    time_end = TM.time()-time_begin #计算总的时间\n",
    "    days_end,hours_end,minutes_end,seconds_end = time_trans(time_end)\n",
    "    \n",
    "    print('用时%d天%02.0f:%02.0f:%02.0f，已经爬完%s页的内容共%s条！！'%( days_end,hours_end,minutes_end,seconds_end, page-1,col))  #已经爬完数据\n",
    "    print('******'*8)\n",
    "    \n",
    "    driver.quit()  #退出并关闭浏览器\n",
    "    \n",
    "    os.system('say \"中新网内容已经爬取完成！请查收！\"')  #告知我\n",
    "    \n",
    "    return data\n",
    "        \n",
    "        \n",
    "    "
   ]
  },
  {
   "cell_type": "markdown",
   "metadata": {},
   "source": [
    "----\n",
    "###  结果预览"
   ]
  },
  {
   "cell_type": "code",
   "execution_count": 7,
   "metadata": {},
   "outputs": [
    {
     "name": "stdout",
     "output_type": "stream",
     "text": [
      "---------------------------------------- \n",
      "准备爬取第1页的内容！！\n"
     ]
    },
    {
     "name": "stderr",
     "output_type": "stream",
     "text": [
      "Some characters could not be decoded, and were replaced with REPLACEMENT CHARACTER.\n",
      "Some characters could not be decoded, and were replaced with REPLACEMENT CHARACTER.\n",
      "Some characters could not be decoded, and were replaced with REPLACEMENT CHARACTER.\n",
      "Some characters could not be decoded, and were replaced with REPLACEMENT CHARACTER.\n",
      "Some characters could not be decoded, and were replaced with REPLACEMENT CHARACTER.\n",
      "Some characters could not be decoded, and were replaced with REPLACEMENT CHARACTER.\n",
      "Some characters could not be decoded, and were replaced with REPLACEMENT CHARACTER.\n",
      "Some characters could not be decoded, and were replaced with REPLACEMENT CHARACTER.\n",
      "Some characters could not be decoded, and were replaced with REPLACEMENT CHARACTER.\n",
      "Some characters could not be decoded, and were replaced with REPLACEMENT CHARACTER.\n"
     ]
    },
    {
     "name": "stdout",
     "output_type": "stream",
     "text": [
      "已经爬取数据10条！\n",
      "已经用时28.43秒!!\n",
      "预计还需用时\"0天00:24:38\"!\n",
      "--------------------\n",
      "正在爬取第2页的内容！！\n"
     ]
    },
    {
     "name": "stderr",
     "output_type": "stream",
     "text": [
      "Some characters could not be decoded, and were replaced with REPLACEMENT CHARACTER.\n",
      "Some characters could not be decoded, and were replaced with REPLACEMENT CHARACTER.\n",
      "Some characters could not be decoded, and were replaced with REPLACEMENT CHARACTER.\n",
      "Some characters could not be decoded, and were replaced with REPLACEMENT CHARACTER.\n",
      "Some characters could not be decoded, and were replaced with REPLACEMENT CHARACTER.\n",
      "Some characters could not be decoded, and were replaced with REPLACEMENT CHARACTER.\n",
      "Some characters could not be decoded, and were replaced with REPLACEMENT CHARACTER.\n",
      "Some characters could not be decoded, and were replaced with REPLACEMENT CHARACTER.\n",
      "Some characters could not be decoded, and were replaced with REPLACEMENT CHARACTER.\n",
      "Some characters could not be decoded, and were replaced with REPLACEMENT CHARACTER.\n"
     ]
    },
    {
     "name": "stdout",
     "output_type": "stream",
     "text": [
      "已经爬取数据20条！\n",
      "已经用时59.90秒!!\n",
      "预计还需用时\"0天00:25:28\"!\n",
      "--------------------\n",
      "正在爬取第3页的内容！！\n"
     ]
    },
    {
     "name": "stderr",
     "output_type": "stream",
     "text": [
      "Some characters could not be decoded, and were replaced with REPLACEMENT CHARACTER.\n",
      "Some characters could not be decoded, and were replaced with REPLACEMENT CHARACTER.\n",
      "Some characters could not be decoded, and were replaced with REPLACEMENT CHARACTER.\n",
      "Some characters could not be decoded, and were replaced with REPLACEMENT CHARACTER.\n",
      "Some characters could not be decoded, and were replaced with REPLACEMENT CHARACTER.\n",
      "Some characters could not be decoded, and were replaced with REPLACEMENT CHARACTER.\n",
      "Some characters could not be decoded, and were replaced with REPLACEMENT CHARACTER.\n",
      "Some characters could not be decoded, and were replaced with REPLACEMENT CHARACTER.\n",
      "Some characters could not be decoded, and were replaced with REPLACEMENT CHARACTER.\n",
      "Some characters could not be decoded, and were replaced with REPLACEMENT CHARACTER.\n"
     ]
    },
    {
     "name": "stdout",
     "output_type": "stream",
     "text": [
      "已经爬取数据30条！\n",
      "已经用时89.89秒!!\n",
      "预计还需用时\"0天00:24:58\"!\n",
      "--------------------\n",
      "正在爬取第4页的内容！！\n"
     ]
    },
    {
     "name": "stderr",
     "output_type": "stream",
     "text": [
      "Some characters could not be decoded, and were replaced with REPLACEMENT CHARACTER.\n",
      "Some characters could not be decoded, and were replaced with REPLACEMENT CHARACTER.\n",
      "Some characters could not be decoded, and were replaced with REPLACEMENT CHARACTER.\n",
      "Some characters could not be decoded, and were replaced with REPLACEMENT CHARACTER.\n",
      "Some characters could not be decoded, and were replaced with REPLACEMENT CHARACTER.\n",
      "Some characters could not be decoded, and were replaced with REPLACEMENT CHARACTER.\n",
      "Some characters could not be decoded, and were replaced with REPLACEMENT CHARACTER.\n",
      "Some characters could not be decoded, and were replaced with REPLACEMENT CHARACTER.\n",
      "Some characters could not be decoded, and were replaced with REPLACEMENT CHARACTER.\n",
      "Some characters could not be decoded, and were replaced with REPLACEMENT CHARACTER.\n"
     ]
    },
    {
     "name": "stdout",
     "output_type": "stream",
     "text": [
      "已经爬取数据40条！\n",
      "已经用时119.70秒!!\n",
      "预计还需用时\"0天00:24:26\"!\n",
      "--------------------\n",
      "正在爬取第5页的内容！！\n"
     ]
    },
    {
     "name": "stderr",
     "output_type": "stream",
     "text": [
      "Some characters could not be decoded, and were replaced with REPLACEMENT CHARACTER.\n",
      "Some characters could not be decoded, and were replaced with REPLACEMENT CHARACTER.\n",
      "Some characters could not be decoded, and were replaced with REPLACEMENT CHARACTER.\n",
      "Some characters could not be decoded, and were replaced with REPLACEMENT CHARACTER.\n",
      "Some characters could not be decoded, and were replaced with REPLACEMENT CHARACTER.\n",
      "Some characters could not be decoded, and were replaced with REPLACEMENT CHARACTER.\n",
      "Some characters could not be decoded, and were replaced with REPLACEMENT CHARACTER.\n",
      "Some characters could not be decoded, and were replaced with REPLACEMENT CHARACTER.\n",
      "Some characters could not be decoded, and were replaced with REPLACEMENT CHARACTER.\n",
      "Some characters could not be decoded, and were replaced with REPLACEMENT CHARACTER.\n"
     ]
    },
    {
     "name": "stdout",
     "output_type": "stream",
     "text": [
      "已经爬取数据50条！\n",
      "已经用时151.44秒!!\n",
      "预计还需用时\"0天00:24:14\"!\n",
      "--------------------\n",
      "正在爬取第6页的内容！！\n"
     ]
    },
    {
     "name": "stderr",
     "output_type": "stream",
     "text": [
      "Some characters could not be decoded, and were replaced with REPLACEMENT CHARACTER.\n",
      "Some characters could not be decoded, and were replaced with REPLACEMENT CHARACTER.\n",
      "Some characters could not be decoded, and were replaced with REPLACEMENT CHARACTER.\n",
      "Some characters could not be decoded, and were replaced with REPLACEMENT CHARACTER.\n",
      "Some characters could not be decoded, and were replaced with REPLACEMENT CHARACTER.\n",
      "Some characters could not be decoded, and were replaced with REPLACEMENT CHARACTER.\n",
      "Some characters could not be decoded, and were replaced with REPLACEMENT CHARACTER.\n",
      "Some characters could not be decoded, and were replaced with REPLACEMENT CHARACTER.\n",
      "Some characters could not be decoded, and were replaced with REPLACEMENT CHARACTER.\n",
      "Some characters could not be decoded, and were replaced with REPLACEMENT CHARACTER.\n"
     ]
    },
    {
     "name": "stdout",
     "output_type": "stream",
     "text": [
      "已经爬取数据60条！\n",
      "已经用时182.46秒!!\n",
      "预计还需用时\"0天00:23:49\"!\n",
      "--------------------\n",
      "正在爬取第7页的内容！！\n"
     ]
    },
    {
     "name": "stderr",
     "output_type": "stream",
     "text": [
      "Some characters could not be decoded, and were replaced with REPLACEMENT CHARACTER.\n",
      "Some characters could not be decoded, and were replaced with REPLACEMENT CHARACTER.\n",
      "Some characters could not be decoded, and were replaced with REPLACEMENT CHARACTER.\n",
      "Some characters could not be decoded, and were replaced with REPLACEMENT CHARACTER.\n",
      "Some characters could not be decoded, and were replaced with REPLACEMENT CHARACTER.\n",
      "Some characters could not be decoded, and were replaced with REPLACEMENT CHARACTER.\n",
      "Some characters could not be decoded, and were replaced with REPLACEMENT CHARACTER.\n",
      "Some characters could not be decoded, and were replaced with REPLACEMENT CHARACTER.\n",
      "Some characters could not be decoded, and were replaced with REPLACEMENT CHARACTER.\n",
      "Some characters could not be decoded, and were replaced with REPLACEMENT CHARACTER.\n"
     ]
    },
    {
     "name": "stdout",
     "output_type": "stream",
     "text": [
      "已经爬取数据70条！\n",
      "已经用时212.74秒!!\n",
      "预计还需用时\"0天00:23:18\"!\n",
      "--------------------\n",
      "正在爬取第8页的内容！！\n"
     ]
    },
    {
     "name": "stderr",
     "output_type": "stream",
     "text": [
      "Some characters could not be decoded, and were replaced with REPLACEMENT CHARACTER.\n",
      "Some characters could not be decoded, and were replaced with REPLACEMENT CHARACTER.\n",
      "Some characters could not be decoded, and were replaced with REPLACEMENT CHARACTER.\n",
      "Some characters could not be decoded, and were replaced with REPLACEMENT CHARACTER.\n",
      "Some characters could not be decoded, and were replaced with REPLACEMENT CHARACTER.\n",
      "Some characters could not be decoded, and were replaced with REPLACEMENT CHARACTER.\n",
      "Some characters could not be decoded, and were replaced with REPLACEMENT CHARACTER.\n",
      "Some characters could not be decoded, and were replaced with REPLACEMENT CHARACTER.\n",
      "Some characters could not be decoded, and were replaced with REPLACEMENT CHARACTER.\n",
      "Some characters could not be decoded, and were replaced with REPLACEMENT CHARACTER.\n"
     ]
    },
    {
     "name": "stdout",
     "output_type": "stream",
     "text": [
      "已经爬取数据80条！\n",
      "已经用时243.74秒!!\n",
      "预计还需用时\"0天00:22:51\"!\n",
      "--------------------\n",
      "正在爬取第9页的内容！！\n"
     ]
    },
    {
     "name": "stderr",
     "output_type": "stream",
     "text": [
      "Some characters could not be decoded, and were replaced with REPLACEMENT CHARACTER.\n",
      "Some characters could not be decoded, and were replaced with REPLACEMENT CHARACTER.\n",
      "Some characters could not be decoded, and were replaced with REPLACEMENT CHARACTER.\n",
      "Some characters could not be decoded, and were replaced with REPLACEMENT CHARACTER.\n",
      "Some characters could not be decoded, and were replaced with REPLACEMENT CHARACTER.\n",
      "Some characters could not be decoded, and were replaced with REPLACEMENT CHARACTER.\n",
      "Some characters could not be decoded, and were replaced with REPLACEMENT CHARACTER.\n",
      "Some characters could not be decoded, and were replaced with REPLACEMENT CHARACTER.\n",
      "Some characters could not be decoded, and were replaced with REPLACEMENT CHARACTER.\n",
      "Some characters could not be decoded, and were replaced with REPLACEMENT CHARACTER.\n"
     ]
    },
    {
     "name": "stdout",
     "output_type": "stream",
     "text": [
      "已经爬取数据90条！\n",
      "已经用时274.08秒!!\n",
      "预计还需用时\"0天00:22:20\"!\n",
      "--------------------\n",
      "正在爬取第10页的内容！！\n"
     ]
    },
    {
     "name": "stderr",
     "output_type": "stream",
     "text": [
      "Some characters could not be decoded, and were replaced with REPLACEMENT CHARACTER.\n",
      "Some characters could not be decoded, and were replaced with REPLACEMENT CHARACTER.\n",
      "Some characters could not be decoded, and were replaced with REPLACEMENT CHARACTER.\n",
      "Some characters could not be decoded, and were replaced with REPLACEMENT CHARACTER.\n",
      "Some characters could not be decoded, and were replaced with REPLACEMENT CHARACTER.\n",
      "Some characters could not be decoded, and were replaced with REPLACEMENT CHARACTER.\n",
      "Some characters could not be decoded, and were replaced with REPLACEMENT CHARACTER.\n",
      "Some characters could not be decoded, and were replaced with REPLACEMENT CHARACTER.\n",
      "Some characters could not be decoded, and were replaced with REPLACEMENT CHARACTER.\n",
      "Some characters could not be decoded, and were replaced with REPLACEMENT CHARACTER.\n"
     ]
    },
    {
     "name": "stdout",
     "output_type": "stream",
     "text": [
      "已经爬取数据100条！\n",
      "已经用时304.21秒!!\n",
      "预计还需用时\"0天00:21:48\"!\n",
      "--------------------\n",
      "正在爬取第11页的内容！！\n"
     ]
    },
    {
     "name": "stderr",
     "output_type": "stream",
     "text": [
      "Some characters could not be decoded, and were replaced with REPLACEMENT CHARACTER.\n",
      "Some characters could not be decoded, and were replaced with REPLACEMENT CHARACTER.\n",
      "Some characters could not be decoded, and were replaced with REPLACEMENT CHARACTER.\n",
      "Some characters could not be decoded, and were replaced with REPLACEMENT CHARACTER.\n",
      "Some characters could not be decoded, and were replaced with REPLACEMENT CHARACTER.\n",
      "Some characters could not be decoded, and were replaced with REPLACEMENT CHARACTER.\n",
      "Some characters could not be decoded, and were replaced with REPLACEMENT CHARACTER.\n",
      "Some characters could not be decoded, and were replaced with REPLACEMENT CHARACTER.\n",
      "Some characters could not be decoded, and were replaced with REPLACEMENT CHARACTER.\n",
      "Some characters could not be decoded, and were replaced with REPLACEMENT CHARACTER.\n"
     ]
    },
    {
     "name": "stdout",
     "output_type": "stream",
     "text": [
      "已经爬取数据110条！\n",
      "已经用时335.77秒!!\n",
      "预计还需用时\"0天00:21:22\"!\n",
      "--------------------\n",
      "正在爬取第12页的内容！！\n"
     ]
    },
    {
     "name": "stderr",
     "output_type": "stream",
     "text": [
      "Some characters could not be decoded, and were replaced with REPLACEMENT CHARACTER.\n",
      "Some characters could not be decoded, and were replaced with REPLACEMENT CHARACTER.\n",
      "Some characters could not be decoded, and were replaced with REPLACEMENT CHARACTER.\n",
      "Some characters could not be decoded, and were replaced with REPLACEMENT CHARACTER.\n",
      "Some characters could not be decoded, and were replaced with REPLACEMENT CHARACTER.\n",
      "Some characters could not be decoded, and were replaced with REPLACEMENT CHARACTER.\n",
      "Some characters could not be decoded, and were replaced with REPLACEMENT CHARACTER.\n",
      "Some characters could not be decoded, and were replaced with REPLACEMENT CHARACTER.\n",
      "Some characters could not be decoded, and were replaced with REPLACEMENT CHARACTER.\n",
      "Some characters could not be decoded, and were replaced with REPLACEMENT CHARACTER.\n"
     ]
    },
    {
     "name": "stdout",
     "output_type": "stream",
     "text": [
      "已经爬取数据120条！\n",
      "已经用时366.32秒!!\n",
      "预计还需用时\"0天00:20:52\"!\n",
      "--------------------\n",
      "正在爬取第13页的内容！！\n"
     ]
    },
    {
     "name": "stderr",
     "output_type": "stream",
     "text": [
      "Some characters could not be decoded, and were replaced with REPLACEMENT CHARACTER.\n",
      "Some characters could not be decoded, and were replaced with REPLACEMENT CHARACTER.\n",
      "Some characters could not be decoded, and were replaced with REPLACEMENT CHARACTER.\n",
      "Some characters could not be decoded, and were replaced with REPLACEMENT CHARACTER.\n",
      "Some characters could not be decoded, and were replaced with REPLACEMENT CHARACTER.\n",
      "Some characters could not be decoded, and were replaced with REPLACEMENT CHARACTER.\n",
      "Some characters could not be decoded, and were replaced with REPLACEMENT CHARACTER.\n",
      "Some characters could not be decoded, and were replaced with REPLACEMENT CHARACTER.\n",
      "Some characters could not be decoded, and were replaced with REPLACEMENT CHARACTER.\n",
      "Some characters could not be decoded, and were replaced with REPLACEMENT CHARACTER.\n"
     ]
    },
    {
     "name": "stdout",
     "output_type": "stream",
     "text": [
      "已经爬取数据130条！\n",
      "已经用时397.47秒!!\n",
      "预计还需用时\"0天00:20:23\"!\n",
      "--------------------\n",
      "正在爬取第14页的内容！！\n"
     ]
    },
    {
     "name": "stderr",
     "output_type": "stream",
     "text": [
      "Some characters could not be decoded, and were replaced with REPLACEMENT CHARACTER.\n",
      "Some characters could not be decoded, and were replaced with REPLACEMENT CHARACTER.\n",
      "Some characters could not be decoded, and were replaced with REPLACEMENT CHARACTER.\n",
      "Some characters could not be decoded, and were replaced with REPLACEMENT CHARACTER.\n",
      "Some characters could not be decoded, and were replaced with REPLACEMENT CHARACTER.\n",
      "Some characters could not be decoded, and were replaced with REPLACEMENT CHARACTER.\n",
      "Some characters could not be decoded, and were replaced with REPLACEMENT CHARACTER.\n",
      "Some characters could not be decoded, and were replaced with REPLACEMENT CHARACTER.\n",
      "Some characters could not be decoded, and were replaced with REPLACEMENT CHARACTER.\n"
     ]
    },
    {
     "name": "stdout",
     "output_type": "stream",
     "text": [
      "已经爬取数据140条！\n",
      "已经用时429.43秒!!\n",
      "预计还需用时\"0天00:19:56\"!\n",
      "--------------------\n",
      "正在爬取第15页的内容！！\n"
     ]
    },
    {
     "name": "stderr",
     "output_type": "stream",
     "text": [
      "Some characters could not be decoded, and were replaced with REPLACEMENT CHARACTER.\n",
      "Some characters could not be decoded, and were replaced with REPLACEMENT CHARACTER.\n",
      "Some characters could not be decoded, and were replaced with REPLACEMENT CHARACTER.\n",
      "Some characters could not be decoded, and were replaced with REPLACEMENT CHARACTER.\n",
      "Some characters could not be decoded, and were replaced with REPLACEMENT CHARACTER.\n",
      "Some characters could not be decoded, and were replaced with REPLACEMENT CHARACTER.\n",
      "Some characters could not be decoded, and were replaced with REPLACEMENT CHARACTER.\n",
      "Some characters could not be decoded, and were replaced with REPLACEMENT CHARACTER.\n"
     ]
    },
    {
     "name": "stdout",
     "output_type": "stream",
     "text": [
      "已经爬取数据150条！\n",
      "已经用时460.55秒!!\n",
      "预计还需用时\"0天00:19:27\"!\n",
      "--------------------\n",
      "正在爬取第16页的内容！！\n"
     ]
    },
    {
     "name": "stderr",
     "output_type": "stream",
     "text": [
      "Some characters could not be decoded, and were replaced with REPLACEMENT CHARACTER.\n",
      "Some characters could not be decoded, and were replaced with REPLACEMENT CHARACTER.\n",
      "Some characters could not be decoded, and were replaced with REPLACEMENT CHARACTER.\n",
      "Some characters could not be decoded, and were replaced with REPLACEMENT CHARACTER.\n",
      "Some characters could not be decoded, and were replaced with REPLACEMENT CHARACTER.\n",
      "Some characters could not be decoded, and were replaced with REPLACEMENT CHARACTER.\n",
      "Some characters could not be decoded, and were replaced with REPLACEMENT CHARACTER.\n",
      "Some characters could not be decoded, and were replaced with REPLACEMENT CHARACTER.\n",
      "Some characters could not be decoded, and were replaced with REPLACEMENT CHARACTER.\n"
     ]
    },
    {
     "name": "stdout",
     "output_type": "stream",
     "text": [
      "已经爬取数据160条！\n",
      "已经用时492.49秒!!\n",
      "预计还需用时\"0天00:18:59\"!\n",
      "--------------------\n",
      "正在爬取第17页的内容！！\n"
     ]
    },
    {
     "name": "stderr",
     "output_type": "stream",
     "text": [
      "Some characters could not be decoded, and were replaced with REPLACEMENT CHARACTER.\n",
      "Some characters could not be decoded, and were replaced with REPLACEMENT CHARACTER.\n",
      "Some characters could not be decoded, and were replaced with REPLACEMENT CHARACTER.\n",
      "Some characters could not be decoded, and were replaced with REPLACEMENT CHARACTER.\n",
      "Some characters could not be decoded, and were replaced with REPLACEMENT CHARACTER.\n",
      "Some characters could not be decoded, and were replaced with REPLACEMENT CHARACTER.\n",
      "Some characters could not be decoded, and were replaced with REPLACEMENT CHARACTER.\n",
      "Some characters could not be decoded, and were replaced with REPLACEMENT CHARACTER.\n",
      "Some characters could not be decoded, and were replaced with REPLACEMENT CHARACTER.\n",
      "Some characters could not be decoded, and were replaced with REPLACEMENT CHARACTER.\n"
     ]
    },
    {
     "name": "stdout",
     "output_type": "stream",
     "text": [
      "已经爬取数据170条！\n",
      "已经用时523.85秒!!\n",
      "预计还需用时\"0天00:18:29\"!\n",
      "--------------------\n",
      "正在爬取第18页的内容！！\n"
     ]
    },
    {
     "name": "stderr",
     "output_type": "stream",
     "text": [
      "Some characters could not be decoded, and were replaced with REPLACEMENT CHARACTER.\n",
      "Some characters could not be decoded, and were replaced with REPLACEMENT CHARACTER.\n",
      "Some characters could not be decoded, and were replaced with REPLACEMENT CHARACTER.\n",
      "Some characters could not be decoded, and were replaced with REPLACEMENT CHARACTER.\n",
      "Some characters could not be decoded, and were replaced with REPLACEMENT CHARACTER.\n",
      "Some characters could not be decoded, and were replaced with REPLACEMENT CHARACTER.\n",
      "Some characters could not be decoded, and were replaced with REPLACEMENT CHARACTER.\n",
      "Some characters could not be decoded, and were replaced with REPLACEMENT CHARACTER.\n",
      "Some characters could not be decoded, and were replaced with REPLACEMENT CHARACTER.\n"
     ]
    },
    {
     "name": "stdout",
     "output_type": "stream",
     "text": [
      "已经爬取数据180条！\n",
      "已经用时555.80秒!!\n",
      "预计还需用时\"0天00:18:01\"!\n",
      "--------------------\n",
      "正在爬取第19页的内容！！\n"
     ]
    },
    {
     "name": "stderr",
     "output_type": "stream",
     "text": [
      "Some characters could not be decoded, and were replaced with REPLACEMENT CHARACTER.\n",
      "Some characters could not be decoded, and were replaced with REPLACEMENT CHARACTER.\n",
      "Some characters could not be decoded, and were replaced with REPLACEMENT CHARACTER.\n",
      "Some characters could not be decoded, and were replaced with REPLACEMENT CHARACTER.\n",
      "Some characters could not be decoded, and were replaced with REPLACEMENT CHARACTER.\n",
      "Some characters could not be decoded, and were replaced with REPLACEMENT CHARACTER.\n",
      "Some characters could not be decoded, and were replaced with REPLACEMENT CHARACTER.\n",
      "Some characters could not be decoded, and were replaced with REPLACEMENT CHARACTER.\n",
      "Some characters could not be decoded, and were replaced with REPLACEMENT CHARACTER.\n",
      "Some characters could not be decoded, and were replaced with REPLACEMENT CHARACTER.\n"
     ]
    },
    {
     "name": "stdout",
     "output_type": "stream",
     "text": [
      "已经爬取数据190条！\n",
      "已经用时588.37秒!!\n",
      "预计还需用时\"0天00:17:33\"!\n",
      "--------------------\n",
      "正在爬取第20页的内容！！\n"
     ]
    },
    {
     "name": "stderr",
     "output_type": "stream",
     "text": [
      "Some characters could not be decoded, and were replaced with REPLACEMENT CHARACTER.\n",
      "Some characters could not be decoded, and were replaced with REPLACEMENT CHARACTER.\n",
      "Some characters could not be decoded, and were replaced with REPLACEMENT CHARACTER.\n",
      "Some characters could not be decoded, and were replaced with REPLACEMENT CHARACTER.\n",
      "Some characters could not be decoded, and were replaced with REPLACEMENT CHARACTER.\n",
      "Some characters could not be decoded, and were replaced with REPLACEMENT CHARACTER.\n",
      "Some characters could not be decoded, and were replaced with REPLACEMENT CHARACTER.\n",
      "Some characters could not be decoded, and were replaced with REPLACEMENT CHARACTER.\n",
      "Some characters could not be decoded, and were replaced with REPLACEMENT CHARACTER.\n"
     ]
    },
    {
     "name": "stdout",
     "output_type": "stream",
     "text": [
      "已经爬取数据200条！\n",
      "已经用时617.68秒!!\n",
      "预计还需用时\"0天00:16:59\"!\n",
      "--------------------\n",
      "正在爬取第21页的内容！！\n"
     ]
    },
    {
     "name": "stderr",
     "output_type": "stream",
     "text": [
      "Some characters could not be decoded, and were replaced with REPLACEMENT CHARACTER.\n",
      "Some characters could not be decoded, and were replaced with REPLACEMENT CHARACTER.\n",
      "Some characters could not be decoded, and were replaced with REPLACEMENT CHARACTER.\n",
      "Some characters could not be decoded, and were replaced with REPLACEMENT CHARACTER.\n",
      "Some characters could not be decoded, and were replaced with REPLACEMENT CHARACTER.\n",
      "Some characters could not be decoded, and were replaced with REPLACEMENT CHARACTER.\n",
      "Some characters could not be decoded, and were replaced with REPLACEMENT CHARACTER.\n",
      "Some characters could not be decoded, and were replaced with REPLACEMENT CHARACTER.\n",
      "Some characters could not be decoded, and were replaced with REPLACEMENT CHARACTER.\n",
      "Some characters could not be decoded, and were replaced with REPLACEMENT CHARACTER.\n"
     ]
    },
    {
     "name": "stdout",
     "output_type": "stream",
     "text": [
      "已经爬取数据210条！\n",
      "已经用时650.89秒!!\n",
      "预计还需用时\"0天00:16:32\"!\n",
      "--------------------\n",
      "正在爬取第22页的内容！！\n"
     ]
    },
    {
     "name": "stderr",
     "output_type": "stream",
     "text": [
      "Some characters could not be decoded, and were replaced with REPLACEMENT CHARACTER.\n",
      "Some characters could not be decoded, and were replaced with REPLACEMENT CHARACTER.\n",
      "Some characters could not be decoded, and were replaced with REPLACEMENT CHARACTER.\n",
      "Some characters could not be decoded, and were replaced with REPLACEMENT CHARACTER.\n",
      "Some characters could not be decoded, and were replaced with REPLACEMENT CHARACTER.\n",
      "Some characters could not be decoded, and were replaced with REPLACEMENT CHARACTER.\n",
      "Some characters could not be decoded, and were replaced with REPLACEMENT CHARACTER.\n",
      "Some characters could not be decoded, and were replaced with REPLACEMENT CHARACTER.\n"
     ]
    },
    {
     "name": "stdout",
     "output_type": "stream",
     "text": [
      "已经爬取数据220条！\n",
      "已经用时683.20秒!!\n",
      "预计还需用时\"0天00:16:03\"!\n",
      "--------------------\n",
      "正在爬取第23页的内容！！\n"
     ]
    },
    {
     "name": "stderr",
     "output_type": "stream",
     "text": [
      "Some characters could not be decoded, and were replaced with REPLACEMENT CHARACTER.\n",
      "Some characters could not be decoded, and were replaced with REPLACEMENT CHARACTER.\n",
      "Some characters could not be decoded, and were replaced with REPLACEMENT CHARACTER.\n",
      "Some characters could not be decoded, and were replaced with REPLACEMENT CHARACTER.\n",
      "Some characters could not be decoded, and were replaced with REPLACEMENT CHARACTER.\n",
      "Some characters could not be decoded, and were replaced with REPLACEMENT CHARACTER.\n",
      "Some characters could not be decoded, and were replaced with REPLACEMENT CHARACTER.\n",
      "Some characters could not be decoded, and were replaced with REPLACEMENT CHARACTER.\n",
      "Some characters could not be decoded, and were replaced with REPLACEMENT CHARACTER.\n",
      "Some characters could not be decoded, and were replaced with REPLACEMENT CHARACTER.\n"
     ]
    },
    {
     "name": "stdout",
     "output_type": "stream",
     "text": [
      "已经爬取数据230条！\n",
      "已经用时714.36秒!!\n",
      "预计还需用时\"0天00:15:32\"!\n",
      "--------------------\n",
      "正在爬取第24页的内容！！\n"
     ]
    },
    {
     "name": "stderr",
     "output_type": "stream",
     "text": [
      "Some characters could not be decoded, and were replaced with REPLACEMENT CHARACTER.\n",
      "Some characters could not be decoded, and were replaced with REPLACEMENT CHARACTER.\n",
      "Some characters could not be decoded, and were replaced with REPLACEMENT CHARACTER.\n",
      "Some characters could not be decoded, and were replaced with REPLACEMENT CHARACTER.\n",
      "Some characters could not be decoded, and were replaced with REPLACEMENT CHARACTER.\n",
      "Some characters could not be decoded, and were replaced with REPLACEMENT CHARACTER.\n",
      "Some characters could not be decoded, and were replaced with REPLACEMENT CHARACTER.\n",
      "Some characters could not be decoded, and were replaced with REPLACEMENT CHARACTER.\n",
      "Some characters could not be decoded, and were replaced with REPLACEMENT CHARACTER.\n",
      "Some characters could not be decoded, and were replaced with REPLACEMENT CHARACTER.\n"
     ]
    },
    {
     "name": "stdout",
     "output_type": "stream",
     "text": [
      "已经爬取数据240条！\n",
      "已经用时745.74秒!!\n",
      "预计还需用时\"0天00:15:01\"!\n",
      "--------------------\n",
      "正在爬取第25页的内容！！\n"
     ]
    },
    {
     "name": "stderr",
     "output_type": "stream",
     "text": [
      "Some characters could not be decoded, and were replaced with REPLACEMENT CHARACTER.\n",
      "Some characters could not be decoded, and were replaced with REPLACEMENT CHARACTER.\n",
      "Some characters could not be decoded, and were replaced with REPLACEMENT CHARACTER.\n",
      "Some characters could not be decoded, and were replaced with REPLACEMENT CHARACTER.\n",
      "Some characters could not be decoded, and were replaced with REPLACEMENT CHARACTER.\n",
      "Some characters could not be decoded, and were replaced with REPLACEMENT CHARACTER.\n",
      "Some characters could not be decoded, and were replaced with REPLACEMENT CHARACTER.\n",
      "Some characters could not be decoded, and were replaced with REPLACEMENT CHARACTER.\n",
      "Some characters could not be decoded, and were replaced with REPLACEMENT CHARACTER.\n",
      "Some characters could not be decoded, and were replaced with REPLACEMENT CHARACTER.\n"
     ]
    },
    {
     "name": "stdout",
     "output_type": "stream",
     "text": [
      "已经爬取数据250条！\n",
      "已经用时776.75秒!!\n",
      "预计还需用时\"0天00:14:30\"!\n",
      "--------------------\n",
      "正在爬取第26页的内容！！\n"
     ]
    },
    {
     "name": "stderr",
     "output_type": "stream",
     "text": [
      "Some characters could not be decoded, and were replaced with REPLACEMENT CHARACTER.\n",
      "Some characters could not be decoded, and were replaced with REPLACEMENT CHARACTER.\n",
      "Some characters could not be decoded, and were replaced with REPLACEMENT CHARACTER.\n",
      "Some characters could not be decoded, and were replaced with REPLACEMENT CHARACTER.\n",
      "Some characters could not be decoded, and were replaced with REPLACEMENT CHARACTER.\n",
      "Some characters could not be decoded, and were replaced with REPLACEMENT CHARACTER.\n",
      "Some characters could not be decoded, and were replaced with REPLACEMENT CHARACTER.\n"
     ]
    },
    {
     "name": "stdout",
     "output_type": "stream",
     "text": [
      "已经爬取数据260条！\n",
      "已经用时807.71秒!!\n",
      "预计还需用时\"0天00:13:59\"!\n",
      "--------------------\n",
      "正在爬取第27页的内容！！\n"
     ]
    },
    {
     "name": "stderr",
     "output_type": "stream",
     "text": [
      "Some characters could not be decoded, and were replaced with REPLACEMENT CHARACTER.\n",
      "Some characters could not be decoded, and were replaced with REPLACEMENT CHARACTER.\n",
      "Some characters could not be decoded, and were replaced with REPLACEMENT CHARACTER.\n",
      "Some characters could not be decoded, and were replaced with REPLACEMENT CHARACTER.\n",
      "Some characters could not be decoded, and were replaced with REPLACEMENT CHARACTER.\n",
      "Some characters could not be decoded, and were replaced with REPLACEMENT CHARACTER.\n",
      "Some characters could not be decoded, and were replaced with REPLACEMENT CHARACTER.\n",
      "Some characters could not be decoded, and were replaced with REPLACEMENT CHARACTER.\n",
      "Some characters could not be decoded, and were replaced with REPLACEMENT CHARACTER.\n"
     ]
    },
    {
     "name": "stdout",
     "output_type": "stream",
     "text": [
      "已经爬取数据270条！\n",
      "已经用时840.97秒!!\n",
      "预计还需用时\"0天00:13:30\"!\n",
      "--------------------\n",
      "正在爬取第28页的内容！！\n"
     ]
    },
    {
     "name": "stderr",
     "output_type": "stream",
     "text": [
      "Some characters could not be decoded, and were replaced with REPLACEMENT CHARACTER.\n",
      "Some characters could not be decoded, and were replaced with REPLACEMENT CHARACTER.\n",
      "Some characters could not be decoded, and were replaced with REPLACEMENT CHARACTER.\n",
      "Some characters could not be decoded, and were replaced with REPLACEMENT CHARACTER.\n",
      "Some characters could not be decoded, and were replaced with REPLACEMENT CHARACTER.\n",
      "Some characters could not be decoded, and were replaced with REPLACEMENT CHARACTER.\n",
      "Some characters could not be decoded, and were replaced with REPLACEMENT CHARACTER.\n",
      "Some characters could not be decoded, and were replaced with REPLACEMENT CHARACTER.\n",
      "Some characters could not be decoded, and were replaced with REPLACEMENT CHARACTER.\n",
      "Some characters could not be decoded, and were replaced with REPLACEMENT CHARACTER.\n"
     ]
    },
    {
     "name": "stdout",
     "output_type": "stream",
     "text": [
      "已经爬取数据280条！\n",
      "已经用时873.71秒!!\n",
      "预计还需用时\"0天00:13:00\"!\n",
      "--------------------\n",
      "正在爬取第29页的内容！！\n"
     ]
    },
    {
     "name": "stderr",
     "output_type": "stream",
     "text": [
      "Some characters could not be decoded, and were replaced with REPLACEMENT CHARACTER.\n",
      "Some characters could not be decoded, and were replaced with REPLACEMENT CHARACTER.\n",
      "Some characters could not be decoded, and were replaced with REPLACEMENT CHARACTER.\n",
      "Some characters could not be decoded, and were replaced with REPLACEMENT CHARACTER.\n",
      "Some characters could not be decoded, and were replaced with REPLACEMENT CHARACTER.\n",
      "Some characters could not be decoded, and were replaced with REPLACEMENT CHARACTER.\n",
      "Some characters could not be decoded, and were replaced with REPLACEMENT CHARACTER.\n",
      "Some characters could not be decoded, and were replaced with REPLACEMENT CHARACTER.\n",
      "Some characters could not be decoded, and were replaced with REPLACEMENT CHARACTER.\n",
      "Some characters could not be decoded, and were replaced with REPLACEMENT CHARACTER.\n"
     ]
    },
    {
     "name": "stdout",
     "output_type": "stream",
     "text": [
      "已经爬取数据290条！\n",
      "已经用时907.23秒!!\n",
      "预计还需用时\"0天00:12:31\"!\n",
      "--------------------\n",
      "正在爬取第30页的内容！！\n"
     ]
    },
    {
     "name": "stderr",
     "output_type": "stream",
     "text": [
      "Some characters could not be decoded, and were replaced with REPLACEMENT CHARACTER.\n",
      "Some characters could not be decoded, and were replaced with REPLACEMENT CHARACTER.\n",
      "Some characters could not be decoded, and were replaced with REPLACEMENT CHARACTER.\n",
      "Some characters could not be decoded, and were replaced with REPLACEMENT CHARACTER.\n",
      "Some characters could not be decoded, and were replaced with REPLACEMENT CHARACTER.\n",
      "Some characters could not be decoded, and were replaced with REPLACEMENT CHARACTER.\n",
      "Some characters could not be decoded, and were replaced with REPLACEMENT CHARACTER.\n",
      "Some characters could not be decoded, and were replaced with REPLACEMENT CHARACTER.\n",
      "Some characters could not be decoded, and were replaced with REPLACEMENT CHARACTER.\n",
      "Some characters could not be decoded, and were replaced with REPLACEMENT CHARACTER.\n"
     ]
    },
    {
     "name": "stdout",
     "output_type": "stream",
     "text": [
      "已经爬取数据300条！\n",
      "已经用时937.13秒!!\n",
      "预计还需用时\"0天00:11:58\"!\n",
      "--------------------\n",
      "正在爬取第31页的内容！！\n"
     ]
    },
    {
     "name": "stderr",
     "output_type": "stream",
     "text": [
      "Some characters could not be decoded, and were replaced with REPLACEMENT CHARACTER.\n",
      "Some characters could not be decoded, and were replaced with REPLACEMENT CHARACTER.\n",
      "Some characters could not be decoded, and were replaced with REPLACEMENT CHARACTER.\n",
      "Some characters could not be decoded, and were replaced with REPLACEMENT CHARACTER.\n",
      "Some characters could not be decoded, and were replaced with REPLACEMENT CHARACTER.\n",
      "Some characters could not be decoded, and were replaced with REPLACEMENT CHARACTER.\n",
      "Some characters could not be decoded, and were replaced with REPLACEMENT CHARACTER.\n",
      "Some characters could not be decoded, and were replaced with REPLACEMENT CHARACTER.\n",
      "Some characters could not be decoded, and were replaced with REPLACEMENT CHARACTER.\n",
      "Some characters could not be decoded, and were replaced with REPLACEMENT CHARACTER.\n"
     ]
    },
    {
     "name": "stdout",
     "output_type": "stream",
     "text": [
      "已经爬取数据310条！\n",
      "已经用时968.11秒!!\n",
      "预计还需用时\"0天00:11:27\"!\n",
      "--------------------\n",
      "正在爬取第32页的内容！！\n"
     ]
    },
    {
     "name": "stderr",
     "output_type": "stream",
     "text": [
      "Some characters could not be decoded, and were replaced with REPLACEMENT CHARACTER.\n",
      "Some characters could not be decoded, and were replaced with REPLACEMENT CHARACTER.\n",
      "Some characters could not be decoded, and were replaced with REPLACEMENT CHARACTER.\n",
      "Some characters could not be decoded, and were replaced with REPLACEMENT CHARACTER.\n",
      "Some characters could not be decoded, and were replaced with REPLACEMENT CHARACTER.\n",
      "Some characters could not be decoded, and were replaced with REPLACEMENT CHARACTER.\n",
      "Some characters could not be decoded, and were replaced with REPLACEMENT CHARACTER.\n",
      "Some characters could not be decoded, and were replaced with REPLACEMENT CHARACTER.\n"
     ]
    },
    {
     "name": "stdout",
     "output_type": "stream",
     "text": [
      "已经爬取数据320条！\n",
      "已经用时999.40秒!!\n",
      "预计还需用时\"0天00:10:56\"!\n",
      "--------------------\n",
      "正在爬取第33页的内容！！\n"
     ]
    },
    {
     "name": "stderr",
     "output_type": "stream",
     "text": [
      "Some characters could not be decoded, and were replaced with REPLACEMENT CHARACTER.\n",
      "Some characters could not be decoded, and were replaced with REPLACEMENT CHARACTER.\n",
      "Some characters could not be decoded, and were replaced with REPLACEMENT CHARACTER.\n",
      "Some characters could not be decoded, and were replaced with REPLACEMENT CHARACTER.\n",
      "Some characters could not be decoded, and were replaced with REPLACEMENT CHARACTER.\n",
      "Some characters could not be decoded, and were replaced with REPLACEMENT CHARACTER.\n",
      "Some characters could not be decoded, and were replaced with REPLACEMENT CHARACTER.\n"
     ]
    },
    {
     "name": "stdout",
     "output_type": "stream",
     "text": [
      "已经爬取数据330条！\n",
      "已经用时1030.65秒!!\n",
      "预计还需用时\"0天00:10:25\"!\n",
      "--------------------\n",
      "正在爬取第34页的内容！！\n"
     ]
    },
    {
     "name": "stderr",
     "output_type": "stream",
     "text": [
      "Some characters could not be decoded, and were replaced with REPLACEMENT CHARACTER.\n",
      "Some characters could not be decoded, and were replaced with REPLACEMENT CHARACTER.\n",
      "Some characters could not be decoded, and were replaced with REPLACEMENT CHARACTER.\n",
      "Some characters could not be decoded, and were replaced with REPLACEMENT CHARACTER.\n",
      "Some characters could not be decoded, and were replaced with REPLACEMENT CHARACTER.\n",
      "Some characters could not be decoded, and were replaced with REPLACEMENT CHARACTER.\n",
      "Some characters could not be decoded, and were replaced with REPLACEMENT CHARACTER.\n",
      "Some characters could not be decoded, and were replaced with REPLACEMENT CHARACTER.\n",
      "Some characters could not be decoded, and were replaced with REPLACEMENT CHARACTER.\n"
     ]
    },
    {
     "name": "stdout",
     "output_type": "stream",
     "text": [
      "已经爬取数据340条！\n",
      "已经用时1063.41秒!!\n",
      "预计还需用时\"0天00:09:54\"!\n",
      "--------------------\n",
      "正在爬取第35页的内容！！\n"
     ]
    },
    {
     "name": "stderr",
     "output_type": "stream",
     "text": [
      "Some characters could not be decoded, and were replaced with REPLACEMENT CHARACTER.\n",
      "Some characters could not be decoded, and were replaced with REPLACEMENT CHARACTER.\n",
      "Some characters could not be decoded, and were replaced with REPLACEMENT CHARACTER.\n",
      "Some characters could not be decoded, and were replaced with REPLACEMENT CHARACTER.\n",
      "Some characters could not be decoded, and were replaced with REPLACEMENT CHARACTER.\n",
      "Some characters could not be decoded, and were replaced with REPLACEMENT CHARACTER.\n",
      "Some characters could not be decoded, and were replaced with REPLACEMENT CHARACTER.\n",
      "Some characters could not be decoded, and were replaced with REPLACEMENT CHARACTER.\n",
      "Some characters could not be decoded, and were replaced with REPLACEMENT CHARACTER.\n"
     ]
    },
    {
     "name": "stdout",
     "output_type": "stream",
     "text": [
      "已经爬取数据350条！\n",
      "已经用时1092.85秒!!\n",
      "预计还需用时\"0天00:09:22\"!\n",
      "--------------------\n",
      "正在爬取第36页的内容！！\n"
     ]
    },
    {
     "name": "stderr",
     "output_type": "stream",
     "text": [
      "Some characters could not be decoded, and were replaced with REPLACEMENT CHARACTER.\n",
      "Some characters could not be decoded, and were replaced with REPLACEMENT CHARACTER.\n",
      "Some characters could not be decoded, and were replaced with REPLACEMENT CHARACTER.\n",
      "Some characters could not be decoded, and were replaced with REPLACEMENT CHARACTER.\n",
      "Some characters could not be decoded, and were replaced with REPLACEMENT CHARACTER.\n",
      "Some characters could not be decoded, and were replaced with REPLACEMENT CHARACTER.\n",
      "Some characters could not be decoded, and were replaced with REPLACEMENT CHARACTER.\n",
      "Some characters could not be decoded, and were replaced with REPLACEMENT CHARACTER.\n",
      "Some characters could not be decoded, and were replaced with REPLACEMENT CHARACTER.\n",
      "Some characters could not be decoded, and were replaced with REPLACEMENT CHARACTER.\n"
     ]
    },
    {
     "name": "stdout",
     "output_type": "stream",
     "text": [
      "已经爬取数据360条！\n",
      "已经用时1123.50秒!!\n",
      "预计还需用时\"0天00:08:51\"!\n",
      "--------------------\n",
      "正在爬取第37页的内容！！\n"
     ]
    },
    {
     "name": "stderr",
     "output_type": "stream",
     "text": [
      "Some characters could not be decoded, and were replaced with REPLACEMENT CHARACTER.\n",
      "Some characters could not be decoded, and were replaced with REPLACEMENT CHARACTER.\n",
      "Some characters could not be decoded, and were replaced with REPLACEMENT CHARACTER.\n",
      "Some characters could not be decoded, and were replaced with REPLACEMENT CHARACTER.\n",
      "Some characters could not be decoded, and were replaced with REPLACEMENT CHARACTER.\n",
      "Some characters could not be decoded, and were replaced with REPLACEMENT CHARACTER.\n",
      "Some characters could not be decoded, and were replaced with REPLACEMENT CHARACTER.\n",
      "Some characters could not be decoded, and were replaced with REPLACEMENT CHARACTER.\n"
     ]
    },
    {
     "name": "stdout",
     "output_type": "stream",
     "text": [
      "已经爬取数据370条！\n",
      "已经用时1155.80秒!!\n",
      "预计还需用时\"0天00:08:20\"!\n",
      "--------------------\n",
      "正在爬取第38页的内容！！\n"
     ]
    },
    {
     "name": "stderr",
     "output_type": "stream",
     "text": [
      "Some characters could not be decoded, and were replaced with REPLACEMENT CHARACTER.\n",
      "Some characters could not be decoded, and were replaced with REPLACEMENT CHARACTER.\n",
      "Some characters could not be decoded, and were replaced with REPLACEMENT CHARACTER.\n",
      "Some characters could not be decoded, and were replaced with REPLACEMENT CHARACTER.\n",
      "Some characters could not be decoded, and were replaced with REPLACEMENT CHARACTER.\n",
      "Some characters could not be decoded, and were replaced with REPLACEMENT CHARACTER.\n",
      "Some characters could not be decoded, and were replaced with REPLACEMENT CHARACTER.\n",
      "Some characters could not be decoded, and were replaced with REPLACEMENT CHARACTER.\n",
      "Some characters could not be decoded, and were replaced with REPLACEMENT CHARACTER.\n"
     ]
    },
    {
     "name": "stdout",
     "output_type": "stream",
     "text": [
      "已经爬取数据380条！\n",
      "已经用时1185.79秒!!\n",
      "预计还需用时\"0天00:07:48\"!\n",
      "--------------------\n",
      "正在爬取第39页的内容！！\n"
     ]
    },
    {
     "name": "stderr",
     "output_type": "stream",
     "text": [
      "Some characters could not be decoded, and were replaced with REPLACEMENT CHARACTER.\n",
      "Some characters could not be decoded, and were replaced with REPLACEMENT CHARACTER.\n",
      "Some characters could not be decoded, and were replaced with REPLACEMENT CHARACTER.\n",
      "Some characters could not be decoded, and were replaced with REPLACEMENT CHARACTER.\n",
      "Some characters could not be decoded, and were replaced with REPLACEMENT CHARACTER.\n",
      "Some characters could not be decoded, and were replaced with REPLACEMENT CHARACTER.\n",
      "Some characters could not be decoded, and were replaced with REPLACEMENT CHARACTER.\n",
      "Some characters could not be decoded, and were replaced with REPLACEMENT CHARACTER.\n",
      "Some characters could not be decoded, and were replaced with REPLACEMENT CHARACTER.\n"
     ]
    },
    {
     "name": "stdout",
     "output_type": "stream",
     "text": [
      "已经爬取数据390条！\n",
      "已经用时1217.24秒!!\n",
      "预计还需用时\"0天00:07:17\"!\n",
      "--------------------\n",
      "正在爬取第40页的内容！！\n"
     ]
    },
    {
     "name": "stderr",
     "output_type": "stream",
     "text": [
      "Some characters could not be decoded, and were replaced with REPLACEMENT CHARACTER.\n",
      "Some characters could not be decoded, and were replaced with REPLACEMENT CHARACTER.\n",
      "Some characters could not be decoded, and were replaced with REPLACEMENT CHARACTER.\n",
      "Some characters could not be decoded, and were replaced with REPLACEMENT CHARACTER.\n",
      "Some characters could not be decoded, and were replaced with REPLACEMENT CHARACTER.\n",
      "Some characters could not be decoded, and were replaced with REPLACEMENT CHARACTER.\n",
      "Some characters could not be decoded, and were replaced with REPLACEMENT CHARACTER.\n",
      "Some characters could not be decoded, and were replaced with REPLACEMENT CHARACTER.\n",
      "Some characters could not be decoded, and were replaced with REPLACEMENT CHARACTER.\n"
     ]
    },
    {
     "name": "stdout",
     "output_type": "stream",
     "text": [
      "已经爬取数据400条！\n",
      "已经用时1249.92秒!!\n",
      "预计还需用时\"0天00:06:46\"!\n",
      "--------------------\n",
      "正在爬取第41页的内容！！\n"
     ]
    },
    {
     "name": "stderr",
     "output_type": "stream",
     "text": [
      "Some characters could not be decoded, and were replaced with REPLACEMENT CHARACTER.\n",
      "Some characters could not be decoded, and were replaced with REPLACEMENT CHARACTER.\n",
      "Some characters could not be decoded, and were replaced with REPLACEMENT CHARACTER.\n",
      "Some characters could not be decoded, and were replaced with REPLACEMENT CHARACTER.\n",
      "Some characters could not be decoded, and were replaced with REPLACEMENT CHARACTER.\n",
      "Some characters could not be decoded, and were replaced with REPLACEMENT CHARACTER.\n",
      "Some characters could not be decoded, and were replaced with REPLACEMENT CHARACTER.\n",
      "Some characters could not be decoded, and were replaced with REPLACEMENT CHARACTER.\n",
      "Some characters could not be decoded, and were replaced with REPLACEMENT CHARACTER.\n",
      "Some characters could not be decoded, and were replaced with REPLACEMENT CHARACTER.\n"
     ]
    },
    {
     "name": "stdout",
     "output_type": "stream",
     "text": [
      "已经爬取数据410条！\n",
      "已经用时1283.26秒!!\n",
      "预计还需用时\"0天00:06:16\"!\n",
      "--------------------\n",
      "正在爬取第42页的内容！！\n"
     ]
    },
    {
     "name": "stderr",
     "output_type": "stream",
     "text": [
      "Some characters could not be decoded, and were replaced with REPLACEMENT CHARACTER.\n",
      "Some characters could not be decoded, and were replaced with REPLACEMENT CHARACTER.\n",
      "Some characters could not be decoded, and were replaced with REPLACEMENT CHARACTER.\n",
      "Some characters could not be decoded, and were replaced with REPLACEMENT CHARACTER.\n",
      "Some characters could not be decoded, and were replaced with REPLACEMENT CHARACTER.\n",
      "Some characters could not be decoded, and were replaced with REPLACEMENT CHARACTER.\n",
      "Some characters could not be decoded, and were replaced with REPLACEMENT CHARACTER.\n",
      "Some characters could not be decoded, and were replaced with REPLACEMENT CHARACTER.\n",
      "Some characters could not be decoded, and were replaced with REPLACEMENT CHARACTER.\n",
      "Some characters could not be decoded, and were replaced with REPLACEMENT CHARACTER.\n"
     ]
    },
    {
     "name": "stdout",
     "output_type": "stream",
     "text": [
      "已经爬取数据420条！\n",
      "已经用时1316.04秒!!\n",
      "预计还需用时\"0天00:05:45\"!\n",
      "--------------------\n",
      "正在爬取第43页的内容！！\n"
     ]
    },
    {
     "name": "stderr",
     "output_type": "stream",
     "text": [
      "Some characters could not be decoded, and were replaced with REPLACEMENT CHARACTER.\n",
      "Some characters could not be decoded, and were replaced with REPLACEMENT CHARACTER.\n",
      "Some characters could not be decoded, and were replaced with REPLACEMENT CHARACTER.\n",
      "Some characters could not be decoded, and were replaced with REPLACEMENT CHARACTER.\n",
      "Some characters could not be decoded, and were replaced with REPLACEMENT CHARACTER.\n",
      "Some characters could not be decoded, and were replaced with REPLACEMENT CHARACTER.\n",
      "Some characters could not be decoded, and were replaced with REPLACEMENT CHARACTER.\n",
      "Some characters could not be decoded, and were replaced with REPLACEMENT CHARACTER.\n",
      "Some characters could not be decoded, and were replaced with REPLACEMENT CHARACTER.\n",
      "Some characters could not be decoded, and were replaced with REPLACEMENT CHARACTER.\n"
     ]
    },
    {
     "name": "stdout",
     "output_type": "stream",
     "text": [
      "已经爬取数据430条！\n",
      "已经用时1345.97秒!!\n",
      "预计还需用时\"0天00:05:13\"!\n",
      "--------------------\n",
      "正在爬取第44页的内容！！\n"
     ]
    },
    {
     "name": "stderr",
     "output_type": "stream",
     "text": [
      "Some characters could not be decoded, and were replaced with REPLACEMENT CHARACTER.\n",
      "Some characters could not be decoded, and were replaced with REPLACEMENT CHARACTER.\n",
      "Some characters could not be decoded, and were replaced with REPLACEMENT CHARACTER.\n",
      "Some characters could not be decoded, and were replaced with REPLACEMENT CHARACTER.\n",
      "Some characters could not be decoded, and were replaced with REPLACEMENT CHARACTER.\n",
      "Some characters could not be decoded, and were replaced with REPLACEMENT CHARACTER.\n",
      "Some characters could not be decoded, and were replaced with REPLACEMENT CHARACTER.\n",
      "Some characters could not be decoded, and were replaced with REPLACEMENT CHARACTER.\n"
     ]
    },
    {
     "name": "stdout",
     "output_type": "stream",
     "text": [
      "已经爬取数据440条！\n",
      "已经用时1378.38秒!!\n",
      "预计还需用时\"0天00:04:42\"!\n",
      "--------------------\n",
      "正在爬取第45页的内容！！\n",
      "已经爬取数据450条！\n",
      "已经用时1406.08秒!!\n",
      "预计还需用时\"0天00:04:10\"!\n",
      "--------------------\n",
      "正在爬取第46页的内容！！\n",
      "已经爬取数据460条！\n",
      "已经用时1436.11秒!!\n",
      "预计还需用时\"0天00:03:39\"!\n",
      "--------------------\n",
      "正在爬取第47页的内容！！\n",
      "已经爬取数据470条！\n",
      "已经用时1462.89秒!!\n",
      "预计还需用时\"0天00:03:07\"!\n",
      "--------------------\n",
      "正在爬取第48页的内容！！\n",
      "已经爬取数据480条！\n",
      "已经用时1491.69秒!!\n",
      "预计还需用时\"0天00:02:35\"!\n",
      "--------------------\n",
      "正在爬取第49页的内容！！\n",
      "已经爬取数据490条！\n",
      "已经用时1521.74秒!!\n",
      "预计还需用时\"0天00:02:04\"!\n",
      "--------------------\n",
      "正在爬取第50页的内容！！\n",
      "已经爬取数据500条！\n",
      "已经用时1554.22秒!!\n",
      "预计还需用时\"0天00:01:33\"!\n",
      "--------------------\n",
      "正在爬取第51页的内容！！\n",
      "已经爬取数据510条！\n",
      "已经用时1585.12秒!!\n",
      "预计还需用时\"0天00:01:02\"!\n",
      "--------------------\n",
      "正在爬取第52页的内容！！\n",
      "已经爬取数据520条！\n",
      "已经用时1614.28秒!!\n",
      "预计还需用时\"0天00:00:31\"!\n",
      "--------------------\n",
      "正在爬取第53页的内容！！\n",
      "已经用时1625.74秒!!\n",
      "预计还需用时\"0天00:00:00\"!\n",
      "--------------------\n",
      "用时1625.74秒已经爬完53页的内容共524条！！\n",
      "************************************************\n"
     ]
    }
   ],
   "source": [
    "data = china_news(53)  #爬取53页"
   ]
  },
  {
   "cell_type": "code",
   "execution_count": 52,
   "metadata": {},
   "outputs": [
    {
     "data": {
      "text/html": [
       "<div>\n",
       "<style scoped>\n",
       "    .dataframe tbody tr th:only-of-type {\n",
       "        vertical-align: middle;\n",
       "    }\n",
       "\n",
       "    .dataframe tbody tr th {\n",
       "        vertical-align: top;\n",
       "    }\n",
       "\n",
       "    .dataframe thead th {\n",
       "        text-align: right;\n",
       "    }\n",
       "</style>\n",
       "<table border=\"1\" class=\"dataframe\">\n",
       "  <thead>\n",
       "    <tr style=\"text-align: right;\">\n",
       "      <th></th>\n",
       "      <th>title</th>\n",
       "      <th>url</th>\n",
       "      <th>date_time</th>\n",
       "      <th>content</th>\n",
       "    </tr>\n",
       "  </thead>\n",
       "  <tbody>\n",
       "    <tr>\n",
       "      <th>0</th>\n",
       "      <td>磋商要平等互利 得适应打打谈谈</td>\n",
       "      <td>http://www.chinanews.com/gn/2019/05-11/8833614...</td>\n",
       "      <td>2019-05-11 07:02:36</td>\n",
       "      <td>5月11日凌晨,第十一轮中美经贸磋商传出结束的消息,据说,在磋商结束后,刘鹤副总理接受了中国...</td>\n",
       "    </tr>\n",
       "    <tr>\n",
       "      <th>1</th>\n",
       "      <td>国际锐评：解决中美经贸摩擦 关键在照顾彼此关切</td>\n",
       "      <td>http://www.chinanews.com/gn/2019/05-11/8833591...</td>\n",
       "      <td>2019-05-11 03:42:43</td>\n",
       "      <td>国际锐评,解决中美经贸摩擦,关键在照顾彼此关切,第十一轮中美经贸高级别磋商当地时间星期五,1...</td>\n",
       "    </tr>\n",
       "    <tr>\n",
       "      <th>2</th>\n",
       "      <td>关税大棒损人害己</td>\n",
       "      <td>http://www.chinanews.com/gn/2019/05-10/8833026...</td>\n",
       "      <td>2019-05-10 15:05:31</td>\n",
       "      <td>国际锐评,关税大棒损人害己,华盛顿时间10日0点01分,北京时间10日12点01分,美方对2...</td>\n",
       "    </tr>\n",
       "    <tr>\n",
       "      <th>3</th>\n",
       "      <td>浙大公布自主招生初审名单</td>\n",
       "      <td>http://www.chinanews.com/sh/2019/05-09/8831841...</td>\n",
       "      <td>2019-05-09 11:32:50</td>\n",
       "      <td>计划招生不超过197人,一共有1534人通过初审,浙大公布自主招生初审名单学科竞赛省一等奖是...</td>\n",
       "    </tr>\n",
       "    <tr>\n",
       "      <th>4</th>\n",
       "      <td>社评：美国要摆“鸿门宴”，但吓唬不住中国</td>\n",
       "      <td>http://www.chinanews.com/gn/2019/05-09/8831586...</td>\n",
       "      <td>2019-05-09 08:31:29</td>\n",
       "      <td>美国,联邦公报,于北京时间8日晚上刊登一份公告称,从星期五开始,美国将把2000亿美元中国输...</td>\n",
       "    </tr>\n",
       "  </tbody>\n",
       "</table>\n",
       "</div>"
      ],
      "text/plain": [
       "                     title                                                url  \\\n",
       "0          磋商要平等互利 得适应打打谈谈  http://www.chinanews.com/gn/2019/05-11/8833614...   \n",
       "1  国际锐评：解决中美经贸摩擦 关键在照顾彼此关切  http://www.chinanews.com/gn/2019/05-11/8833591...   \n",
       "2                 关税大棒损人害己  http://www.chinanews.com/gn/2019/05-10/8833026...   \n",
       "3             浙大公布自主招生初审名单  http://www.chinanews.com/sh/2019/05-09/8831841...   \n",
       "4     社评：美国要摆“鸿门宴”，但吓唬不住中国  http://www.chinanews.com/gn/2019/05-09/8831586...   \n",
       "\n",
       "             date_time                                            content  \n",
       "0  2019-05-11 07:02:36  5月11日凌晨,第十一轮中美经贸磋商传出结束的消息,据说,在磋商结束后,刘鹤副总理接受了中国...  \n",
       "1  2019-05-11 03:42:43  国际锐评,解决中美经贸摩擦,关键在照顾彼此关切,第十一轮中美经贸高级别磋商当地时间星期五,1...  \n",
       "2  2019-05-10 15:05:31  国际锐评,关税大棒损人害己,华盛顿时间10日0点01分,北京时间10日12点01分,美方对2...  \n",
       "3  2019-05-09 11:32:50  计划招生不超过197人,一共有1534人通过初审,浙大公布自主招生初审名单学科竞赛省一等奖是...  \n",
       "4  2019-05-09 08:31:29  美国,联邦公报,于北京时间8日晚上刊登一份公告称,从星期五开始,美国将把2000亿美元中国输...  "
      ]
     },
     "execution_count": 52,
     "metadata": {},
     "output_type": "execute_result"
    }
   ],
   "source": [
    "data.head()"
   ]
  },
  {
   "cell_type": "code",
   "execution_count": 51,
   "metadata": {},
   "outputs": [],
   "source": [
    "data.to_csv('中美贸易战2.csv', index = False)   #导出数据"
   ]
  },
  {
   "cell_type": "markdown",
   "metadata": {},
   "source": [
    "---\n",
    "###  数据处理"
   ]
  },
  {
   "cell_type": "code",
   "execution_count": 77,
   "metadata": {},
   "outputs": [],
   "source": [
    "trade_war = pd.read_csv('中美贸易战2.csv')"
   ]
  },
  {
   "cell_type": "code",
   "execution_count": 78,
   "metadata": {
    "scrolled": true
   },
   "outputs": [
    {
     "data": {
      "text/plain": [
       "'5月11日凌晨,第十一轮中美经贸磋商传出结束的消息,据说,在磋商结束后,刘鹤副总理接受了中国记者的集体采访,回答了磋商的有关问题,据陶然笔记了解,有关回答立场坚定,态度坦诚,大气从容,内容详实,还披露了关于近期磋商的一些情况,大致谈了下面几层意思,一是截至第十一轮磋商双方所取得的成果,,二是中方首度公开与美方三个分歧,三是清楚表明加征关税必然触发中方反制,四是表达了对中美关系前景的基本态度,同时透露双方同意继续保持沟通,最重要的消息,其实是第四条,因为美方提到继续增加关税,所以外界一直在猜测,中美磋商是不是破裂了,据了解,从答记者问的内容看,双方团队同意保持沟通,这也表明双方的磋商意愿并未彻底消失,与其说是破裂,不如可以看成是在双方分歧短期无法解决的情况下,磋商进程中发生的插曲,说完声明,再说几点感受,首先,中美一个主要分歧,恐怕还在于双方对,公平,的认知不同,就在这两天,美方频频通过外媒发声,将此轮磋商出现曲折,乃至于重新加征关税的原因,归咎于中方在磋商中,不遵守已谈成的承诺,这个说法经过层层放大,在海外很有市场,传到国内,有些朋友觉得听上去也是那么回事,其实只要稍加留意,就能注意到里面的两处破绽,不难看清这是美方为撇清磋商受阻的责任而设下的舆论议题,第一,磋商尚未完成,没有签署,严格来说,最终签署之前的任何变化都应看作是磋商过程之一,不遵守承诺,的提法其实无从谈起,长于各种谈判技法的美方,对此应该是心知肚明的,第二,美方说中方没有满足美方要求,所以是,不公平,的,但美方对中方诉求只字不提,这难道就公平了,看来在对,公平,的定义上,两边还存在分歧,中方认为相互尊重,平等互利才是公平的,而美方的叙述里,仿佛不满足自己的要求就是不公平的,怎么看这种分歧呢,可以看看一位长者曾对我提过的观点,两国磋商,如果谈出一个两边都不是很满意但又大致能够接受的结果,那就是成功的,执行起来也会顺利一些,如果只是单方面特别满意的协议,而无视另一方的利益和诉求,那么即便是签署了也未必能够落地,而且后患无穷,这也正像我们之前说的,如果某一方仅仅只考虑自己的诉求,以为可以通过极限施压来迫使另一方就范,而忽视了磋商的公平,那么也不是没有不欢而散的可能,其次,中美经贸磋商打打谈谈这种情况很有可能常态化,需要尽快去适应,第十一轮经贸磋商,就是个最典型的例子,磋商这边还谈着呢,那边美方就把2000亿美元中国输美商品的加征关税税率从10,调高到25,还威胁要对3250亿美元中国输美商品加征25,关税,而中方也在第一时间宣布反制,同时强调会对美方举措采取必要反制措施,一边打,一边谈,矛盾吗,很矛盾,但仔细想想,合情合理,谈判,就是在互相试探,互相认识之中找到彼此利益平衡点的过程,现在需要尽快意识到一个问题,打打谈谈的过程必然会面对十分错综复杂的局面,看着刺激人的消息一个接着一个,但我们还是要坚持自己的发展节奏,坚持以开放促改革促发展,推动经济高质量发展,通过改革开放做大国内市场,没点儿定力是不行的,最后,个人觉得,对中美关系的未来,需要有些更多地思考,现在一方面中国必将沿着自己的发展道路坚定不移地走下去,另一方面,美国国内仍有一部分人,习惯于使用,非此即彼,而不是,求同存异,的思维模式来看待中国的发展,我们主要觉得,通过发展可以做出,增量,实现各方的合作共赢,他们有人认为,我们的发展做不出,增量,会触碰他们的,存量,这样一种矛盾,在相当时间相当范围内还将存在,这种矛盾决定了中美之间这种沟通摩擦,存在长期,艰巨,复杂的特点,长期有多长,中美贸易战,打了一年多,仍在继续,会有多艰巨,别的不说,第十一轮磋商已经把这个特点展现出来,会有多复杂,打打谈谈会带来许多难以估算的变量,打中有谈,边谈边打,更遑论其他领域的碰撞和沟通,无论中美间最后能否达成经贸协议,中美之间仍然会有很多不同意见,会有很多分歧,国外很多人,也有国内一部分人,据此认为这将会导致中美出现大范围的摩擦和矛盾,这种可能性是存在的,但也要看到另外一种可能,中美仍然可以蹚出另一条路,一条能够管控分歧,又能够寻找到兼顾彼此利益最大公约数的相处模式,在陶然笔记看来,这正是中方目前在努力推动的一条道路,也是不停推动美方相向而行的根本原因,当中美之间找到某个平衡点的时候,双方的这种密切摩擦或者说碰撞也好,才会逐渐趋于平静,当然,这种设想对不对,还需要事实来检验,现阶段来看,美方包括国内还有相当一部分人对这种前景不理解不认同,因此还需要尝试更多的沟通,运用更多的事实去说服他们,能够谈还是要谈,该打也有能力打,以斗争求团结则团结存,只要我们不忘初心,不忘记斗争的目的是为彼此寻找合适相处模式,那么我们的道理,总有说服人的一天,令狐猫,微信公众号,陶然笔记'"
      ]
     },
     "execution_count": 78,
     "metadata": {},
     "output_type": "execute_result"
    }
   ],
   "source": [
    "trade_war.content[0]"
   ]
  },
  {
   "cell_type": "code",
   "execution_count": 79,
   "metadata": {},
   "outputs": [
    {
     "name": "stderr",
     "output_type": "stream",
     "text": [
      "Building prefix dict from the default dictionary ...\n",
      "Loading model from cache /var/folders/_4/0d6f0wv952s2rc4jhfhtzstw0000gn/T/jieba.cache\n",
      "Loading model cost 0.678 seconds.\n",
      "Prefix dict has been built succesfully.\n"
     ]
    }
   ],
   "source": [
    "###加载自定义词典\n",
    "jieba.load_userdict('my_dict.txt')"
   ]
  },
  {
   "cell_type": "code",
   "execution_count": 80,
   "metadata": {},
   "outputs": [],
   "source": [
    "stop_words_null = ['2019', 'lex', 'nbsp', 'the', '①①', '①②', '①③', '①④', '①⑤', '①⑥', '①⑦', '①⑧', '①⑨', '①ａ', '①ｂ', '①ｃ', '①ｄ', '①ｅ', '①ｆ', '①ｇ', '①ｈ', '①ｉ', '①ｏ', '②①', '②②', '②③', '②④', '②⑤', '②⑥', '②⑦', '②⑧', '②⑩', '②ａ', '②ｂ', '②ｄ', '②ｅ', '②ｆ', '②ｇ', '②ｈ', '②ｉ', '②ｊ', '③①', '③⑩', '③ａ', '③ｂ', '③ｃ', '③ｄ', '③ｅ', '③ｆ', '③ｇ', '③ｈ', '④ａ', '④ｂ', '④ｃ', '④ｄ', '④ｅ', '⑤ａ', '⑤ｂ', '⑤ｄ', '⑤ｅ', '⑤ｆ', '１２', 'ｌｉ', 'ｚｘｆｉｔｌ']\n",
    "###中文停用词\n",
    "with open('中文停用词.txt', 'r') as f:\n",
    "    stop_words = stop_words_null\n",
    "    for line in f:\n",
    "        if '\\ufeff' in line:\n",
    "            word = re.split(r'\\n|\\ufeff', line)[1]\n",
    "        else:\n",
    "            word = re.split(r'\\n', line)[0]\n",
    "        stop_words.append(word)    "
   ]
  },
  {
   "cell_type": "code",
   "execution_count": 81,
   "metadata": {},
   "outputs": [],
   "source": [
    "trade_war_content_cut = []   #jieba分词\n",
    "for i in trade_war.content:\n",
    "    word_cut = jieba.cut(i, cut_all=False)\n",
    "    word_cut_stop = [word for word in word_cut if word not in stop_words]\n",
    "    trade_war_content_cut.append(','.join(word_cut_stop))\n"
   ]
  },
  {
   "cell_type": "code",
   "execution_count": 108,
   "metadata": {},
   "outputs": [
    {
     "data": {
      "text/plain": [
       "['声明', '几点', '感受', '中美']"
      ]
     },
     "execution_count": 108,
     "metadata": {},
     "output_type": "execute_result"
    }
   ],
   "source": [
    "content0 = trade_war_content_cut[0]  #第0个数据处理\n",
    "content0_list = re.split(r',', content0)\n",
    "content0_list[96:100]"
   ]
  },
  {
   "cell_type": "code",
   "execution_count": 86,
   "metadata": {},
   "outputs": [],
   "source": [
    "content0_dict = {}\n",
    "for word in content0_list:\n",
    "    if word in content0_dict.keys():\n",
    "        content0_dict[word] += 1\n",
    "    else:\n",
    "        content0_dict[word] = 1"
   ]
  },
  {
   "cell_type": "code",
   "execution_count": 88,
   "metadata": {},
   "outputs": [
    {
     "data": {
      "text/plain": [
       "[('磋商', 19),\n",
       " ('美方', 13),\n",
       " ('中美', 9),\n",
       " ('中方', 8),\n",
       " ('分歧', 7),\n",
       " ('公平', 7),\n",
       " ('谈', 6),\n",
       " ('发展', 6),\n",
       " ('中国', 5),\n",
       " ('关税', 5),\n",
       " ('沟通', 5),\n",
       " ('国内', 5),\n",
       " ('矛盾', 5),\n",
       " ('第十一轮', 4),\n",
       " ('经贸', 4),\n",
       " ('加征', 4),\n",
       " ('消息', 3),\n",
       " ('陶然', 3),\n",
       " ('笔记', 3),\n",
       " ('情况', 3)]"
      ]
     },
     "execution_count": 88,
     "metadata": {},
     "output_type": "execute_result"
    }
   ],
   "source": [
    "sorted(content0_dict.items(), key= lambda x:x[1], reverse=True )[:20]  #查看前20个词频"
   ]
  },
  {
   "cell_type": "code",
   "execution_count": 90,
   "metadata": {},
   "outputs": [],
   "source": [
    "###词向量\n",
    "tf = TfidfVectorizer(analyzer='word', min_df = 0, stop_words = stop_words) #ngram_range=(1,3)"
   ]
  },
  {
   "cell_type": "code",
   "execution_count": 91,
   "metadata": {
    "scrolled": true
   },
   "outputs": [
    {
     "name": "stdout",
     "output_type": "stream",
     "text": [
      "27004\n"
     ]
    }
   ],
   "source": [
    "tfidf_matrix =  tf.fit_transform(trade_war_content_cut)\n",
    "feature_names = tf.get_feature_names() \n",
    "print(len(feature_names))  #词频矩阵的列数"
   ]
  },
  {
   "cell_type": "code",
   "execution_count": 92,
   "metadata": {},
   "outputs": [
    {
     "name": "stdout",
     "output_type": "stream",
     "text": [
      "磋商                  0.42988766583253085\n",
      "美方                  0.20482985081579966\n",
      "第十一轮                0.20188547419543065\n",
      "分歧                  0.18877375658623427\n",
      "公平                  0.16433251565883067\n",
      "矛盾                  0.14666668748922806\n",
      "沟通                  0.13790400519000215\n",
      "笔记                  0.13325352116502898\n",
      "陶然                  0.13325352116502898\n",
      "中方                  0.13079922142517067\n",
      "打打                  0.12490997444127379\n",
      "谈谈                  0.11509293668348493\n",
      "平衡点                 0.10596761947682347\n",
      "中美                  0.10321945794119261\n",
      "诉求                  0.09862327340641866\n",
      "两边                  0.09704513552159236\n",
      "碰撞                  0.09116804558530366\n",
      "相处                  0.08883568077668598\n",
      "说服                  0.0867783892138729\n",
      "另一方                 0.084938079200563\n"
     ]
    }
   ],
   "source": [
    "dense = tfidf_matrix.todense()\n",
    "\n",
    "episode = dense[0].tolist()[0] #这是一个[[1，2，3]]的格式，所以要取[0]\n",
    "phrase_scores = [pair for pair in zip(range(0, len(episode)), episode) if pair[1] > 0] #将index和结果绑定，并去掉了0的项\n",
    "sorted_phrase_scores = sorted(phrase_scores, key=lambda x: x[1], reverse=True)  #降序排列\n",
    "sorted_phrase_scores_20 = [(feature_names[word_id], score) for (word_id, score) in sorted_phrase_scores][:20] #tuple格式\n",
    "for phrase, score in sorted_phrase_scores_20:\n",
    "        print('{0: <20}{1}'.format(phrase, score))  \n",
    "              "
   ]
  },
  {
   "cell_type": "markdown",
   "metadata": {},
   "source": [
    "----\n",
    "## WashingtonPost网址爬取\n",
    "[WashingtonPost](https://www.washingtonpost.com/)"
   ]
  },
  {
   "cell_type": "code",
   "execution_count": 32,
   "metadata": {},
   "outputs": [],
   "source": [
    "##不打开浏览器\n",
    "options = Options() \n",
    "options.add_argument(\"--headless\") \n",
    "\n",
    "\n",
    "#打开浏览器\n",
    "driver = webdriver.Chrome()   #options = options\n",
    "driver.get('https://www.washingtonpost.com/newssearch/?query=China-US%20trade%20war&sort=Relevance&datefilter=12%20Months&startat=0&spellcheck#top')  #打开链接"
   ]
  },
  {
   "cell_type": "code",
   "execution_count": 9,
   "metadata": {},
   "outputs": [],
   "source": [
    "def url_get_content_WathingtonPost(url):\n",
    "    \"\"\"\n",
    "    该函数根据所传入的字符串类型的链接url获取该页的内容\n",
    "    示例：url = 'https://baidu.com'\n",
    "    结果：输出为预处理后的结果\n",
    "    \"\"\"\n",
    "    content = ''\n",
    "    try:\n",
    "        html = requests.get(url) #, cookies = cookies, headers = headers) #打开链接  #伪装成真实的访问者\n",
    "        soup = BeautifulSoup(html.content, \"html.parser\")  #解码链接\n",
    "        content = soup.find('article', {\"class\": \"paywall\"}).get_text() #解码后找到相应内容\n",
    "        #content1 = ','.join(re.findall(r'\\w+', content0))  #处理初始数据\n",
    "        \n",
    "        #试图深度处理数据\n",
    "#         try:\n",
    "#             remove = re.findall(r'function.*?fix', content1)[0]  \n",
    "#             content = content1.replace(remove, '')\n",
    "#         except:\n",
    "#             content  = content1\n",
    "            \n",
    "    except:\n",
    "        pass\n",
    "    \n",
    "    return content"
   ]
  },
  {
   "cell_type": "code",
   "execution_count": 33,
   "metadata": {},
   "outputs": [],
   "source": [
    "def Washington_Post_news(pages = 5):\n",
    "\n",
    "    import time as TM\n",
    "    \n",
    "    time_begin = TM.time()  #初始化时间\n",
    "    col = 0  #查找的第i个内容\n",
    "    page = 1    #初始化页数\n",
    "    column_name = ['title', 'url', 'date_time', 'content']   #所获取的内容\n",
    "    data = pd.DataFrame(columns=column_name)  #初始化结果\n",
    "    \n",
    "    print('-----'*8, '\\n准备爬取第1页的内容！！')\n",
    "    os.system('say \"准备爬取第1页的内容!\"')\n",
    "    \n",
    "    while page <= pages:  #页数还没爬完就继续\n",
    "        \n",
    "        key = True  #判断是否爬完了某一页的所有内容\n",
    "        i = 1   #初始化当前页的新闻个数\n",
    "        \n",
    "        while key:  #爬取当前页的内容\n",
    "            \n",
    "            try:\n",
    "\n",
    "                url = '//*[@id=\"main-content\"]/div/div/div[2]/div/div[%s]'%(i)   #第i个新闻的位置\n",
    "                title_url = '/div[1]/p/a'   #第i个新闻的标题位置\n",
    "                date_time_url = '/div[3]/span'   #第i个新闻的时间信息，\n",
    "\n",
    "\n",
    "                title = driver.find_element_by_xpath(url+title_url).text  #标题\n",
    "                href = driver.find_element_by_xpath(url+title_url).get_attribute('href')  #链接\n",
    "                date_time = driver.find_element_by_xpath(url+date_time_url).text #时间\n",
    "                content = url_get_content_WathingtonPost(href)  #获得链接中的内容\n",
    "\n",
    "                #整理数据到data\n",
    "                data.loc[col, :] = [title, href, date_time, content]\n",
    "\n",
    "                i += 1  #更新到下一个新闻\n",
    "                col += 1  #更新col index\n",
    "                \n",
    "                ##每10条数据休息一会并告知我\n",
    "                if col % 10 == 0:\n",
    "                    print('已经爬取数据%s条！'%(col))  \n",
    "                    os.system('say \"叮叮\"')\n",
    "                    os.system('say \"%s\"'%(col))\n",
    "                    TM.sleep(np.random.rand()+3)   #每爬完一页的内容多休息一会\n",
    "                \n",
    "                TM.sleep(np.random.rand()+1)  #每爬完一个新闻暂停一会\n",
    "\n",
    "            except:\n",
    "                key = False\n",
    "                \n",
    "                ##估算剩余时间\n",
    "                time_cost = TM.time() - time_begin  #当前所用时间\n",
    "                print('已经用时%.2f秒!!'%(time_cost))\n",
    "                \n",
    "                time_mean = time_cost/page  #当前每页的平均时间        \n",
    "                time_need = time_mean*(pages-page)   #剩余页数的时间\n",
    "                days,hours,minutes,seconds = time_trans(time_need)  #单位为秒的时间数据处理为日期\n",
    "                print('预计还需用时\\\"%d天%02.0f:%02.0f:%02.0f\\\"!'%(days, hours, minutes, seconds))\n",
    "                print('-----'*4)\n",
    "                \n",
    "                page += 1   #更新到下一页\n",
    "                print(data.content[len(data)-1])  #查看这一页的最后一个内容\n",
    "                if page <= pages:\n",
    "                    print('正在爬取第%s页的内容！！'%(page))\n",
    "                \n",
    "                    os.system('say \"正在爬取第%s页的内容\"'%(page))\n",
    "                    ##点击下一页\n",
    "                    driver.find_element_by_link_text('Next').click()   #点击下一页\n",
    "                \n",
    "    time_end = TM.time()-time_begin\n",
    "    days_end,hours_end,minutes_end,seconds_end = time_trans(time_end)\n",
    "    \n",
    "    print('用时%d天%02.0f:%02.0f:%02.0f，已经爬完%s页的内容共%s条！！'%( days_end,hours_end,minutes_end,seconds_end, page-1,col))  #已经爬完数据\n",
    "    print('******'*8)\n",
    "    \n",
    "    driver.quit()  #退出并关闭浏览器\n",
    "    \n",
    "    os.system('say \"WashingtonPost内容已经爬取完成！请查收！\"')  #告知我\n",
    "    \n",
    "    return data\n",
    "        \n",
    "        \n",
    "        \n",
    "        \n",
    "        \n",
    "        \n",
    "        "
   ]
  },
  {
   "cell_type": "code",
   "execution_count": 34,
   "metadata": {},
   "outputs": [
    {
     "name": "stdout",
     "output_type": "stream",
     "text": [
      "---------------------------------------- \n",
      "准备爬取第1页的内容！！\n",
      "已经爬取数据10条！\n",
      "已经爬取数据20条！\n",
      "已经用时239.37秒!!\n",
      "预计还需用时\"0天03:15:29\"!\n",
      "--------------------\n",
      "正在爬取第2页的内容！！\n",
      "已经爬取数据30条！\n",
      "已经爬取数据40条！\n",
      "已经用时505.27秒!!\n",
      "预计还需用时\"0天03:22:06\"!\n",
      "--------------------\n",
      "正在爬取第3页的内容！！\n",
      "已经爬取数据50条！\n",
      "已经爬取数据60条！\n",
      "已经用时762.81秒!!\n",
      "预计还需用时\"0天03:19:11\"!\n",
      "--------------------\n",
      "正在爬取第4页的内容！！\n",
      "已经爬取数据70条！\n",
      "已经爬取数据80条！\n",
      "已经用时1064.62秒!!\n",
      "预计还需用时\"0天03:24:03\"!\n",
      "--------------------\n",
      "正在爬取第5页的内容！！\n",
      "已经爬取数据90条！\n",
      "已经爬取数据100条！\n",
      "已经用时1370.90秒!!\n",
      "预计还需用时\"0天03:25:38\"!\n",
      "--------------------\n",
      "正在爬取第6页的内容！！\n",
      "已经爬取数据110条！\n",
      "已经爬取数据120条！\n",
      "已经用时1687.00秒!!\n",
      "预计还需用时\"0天03:26:11\"!\n",
      "--------------------\n",
      "正在爬取第7页的内容！！\n",
      "已经爬取数据130条！\n",
      "已经爬取数据140条！\n",
      "已经用时1961.90秒!!\n",
      "预计还需用时\"0天03:20:52\"!\n",
      "--------------------\n",
      "正在爬取第8页的内容！！\n",
      "已经爬取数据150条！\n",
      "已经爬取数据160条！\n",
      "已经用时2255.41秒!!\n",
      "预计还需用时\"0天03:17:21\"!\n",
      "--------------------\n",
      "正在爬取第9页的内容！！\n",
      "已经爬取数据170条！\n",
      "已经爬取数据180条！\n",
      "已经用时2612.07秒!!\n",
      "预计还需用时\"0天03:18:19\"!\n",
      "--------------------\n",
      "正在爬取第10页的内容！！\n",
      "已经爬取数据190条！\n",
      "已经爬取数据200条！\n",
      "已经用时2925.66秒!!\n",
      "预计还需用时\"0天03:15:03\"!\n",
      "--------------------\n",
      "正在爬取第11页的内容！！\n",
      "已经爬取数据210条！\n",
      "已经爬取数据220条！\n",
      "已经用时3227.84秒!!\n",
      "预计还需用时\"0天03:10:44\"!\n",
      "--------------------\n",
      "正在爬取第12页的内容！！\n",
      "已经用时3354.76秒!!\n",
      "预计还需用时\"0天02:57:03\"!\n",
      "--------------------\n",
      "正在爬取第13页的内容！！\n",
      "已经用时3370.72秒!!\n",
      "预计还需用时\"0天02:39:54\"!\n",
      "--------------------\n",
      "正在爬取第14页的内容！！\n",
      "已经爬取数据230条！\n",
      "已经爬取数据240条！\n",
      "已经用时3669.95秒!!\n",
      "预计还需用时\"0天02:37:17\"!\n",
      "--------------------\n",
      "正在爬取第15页的内容！！\n",
      "已经爬取数据250条！\n",
      "已经爬取数据260条！\n",
      "已经用时4032.80秒!!\n",
      "预计还需用时\"0天02:36:50\"!\n",
      "--------------------\n",
      "正在爬取第16页的内容！！\n",
      "已经爬取数据270条！\n",
      "已经爬取数据280条！\n",
      "已经用时4484.49秒!!\n",
      "预计还需用时\"0天02:38:50\"!\n",
      "--------------------\n",
      "正在爬取第17页的内容！！\n",
      "已经爬取数据290条！\n",
      "已经爬取数据300条！\n",
      "已经用时4788.04秒!!\n",
      "预计还需用时\"0天02:34:54\"!\n",
      "--------------------\n",
      "正在爬取第18页的内容！！\n",
      "已经爬取数据310条！\n",
      "已经爬取数据320条！\n",
      "已经用时5116.64秒!!\n",
      "预计还需用时\"0天02:31:36\"!\n",
      "--------------------\n",
      "正在爬取第19页的内容！！\n",
      "已经爬取数据330条！\n",
      "已经爬取数据340条！\n",
      "已经用时5430.32秒!!\n",
      "预计还需用时\"0天02:27:40\"!\n",
      "--------------------\n",
      "正在爬取第20页的内容！！\n",
      "已经爬取数据350条！\n",
      "已经爬取数据360条！\n",
      "已经用时5753.68秒!!\n",
      "预计还需用时\"0天02:23:51\"!\n",
      "--------------------\n",
      "正在爬取第21页的内容！！\n",
      "已经爬取数据370条！\n",
      "已经爬取数据380条！\n",
      "已经用时6072.56秒!!\n",
      "预计还需用时\"0天02:19:46\"!\n",
      "--------------------\n",
      "正在爬取第22页的内容！！\n",
      "已经爬取数据390条！\n",
      "已经爬取数据400条！\n",
      "已经用时6399.80秒!!\n",
      "预计还需用时\"0天02:15:45\"!\n",
      "--------------------\n",
      "正在爬取第23页的内容！！\n",
      "已经爬取数据410条！\n",
      "已经爬取数据420条！\n",
      "已经用时6751.71秒!!\n",
      "预计还需用时\"0天02:12:06\"!\n",
      "--------------------\n",
      "正在爬取第24页的内容！！\n",
      "已经爬取数据430条！\n",
      "已经爬取数据440条！\n",
      "已经用时7027.87秒!!\n",
      "预计还需用时\"0天02:06:54\"!\n",
      "--------------------\n",
      "正在爬取第25页的内容！！\n",
      "已经爬取数据450条！\n",
      "已经爬取数据460条！\n",
      "已经用时7319.67秒!!\n",
      "预计还需用时\"0天02:01:60\"!\n",
      "--------------------\n",
      "正在爬取第26页的内容！！\n",
      "已经爬取数据470条！\n",
      "已经爬取数据480条！\n",
      "已经用时7614.07秒!!\n",
      "预计还需用时\"0天01:57:08\"!\n",
      "--------------------\n",
      "正在爬取第27页的内容！！\n",
      "已经爬取数据490条！\n",
      "已经爬取数据500条！\n",
      "已经用时7944.82秒!!\n",
      "预计还需用时\"0天01:52:48\"!\n",
      "--------------------\n",
      "正在爬取第28页的内容！！\n",
      "已经爬取数据510条！\n",
      "已经用时8065.45秒!!\n",
      "预计还需用时\"0天01:45:37\"!\n",
      "--------------------\n",
      "正在爬取第29页的内容！！\n",
      "已经爬取数据520条！\n",
      "已经爬取数据530条！\n",
      "已经用时8425.86秒!!\n",
      "预计还需用时\"0天01:41:41\"!\n",
      "--------------------\n",
      "正在爬取第30页的内容！！\n",
      "已经爬取数据540条！\n",
      "已经爬取数据550条！\n",
      "已经用时8748.14秒!!\n",
      "预计还需用时\"0天01:37:12\"!\n",
      "--------------------\n",
      "正在爬取第31页的内容！！\n",
      "已经爬取数据560条！\n",
      "已经爬取数据570条！\n",
      "已经用时9065.75秒!!\n",
      "预计还需用时\"0天01:32:36\"!\n",
      "--------------------\n",
      "正在爬取第32页的内容！！\n",
      "已经爬取数据580条！\n",
      "已经爬取数据590条！\n",
      "已经用时9386.71秒!!\n",
      "预计还需用时\"0天01:28:00\"!\n",
      "--------------------\n",
      "正在爬取第33页的内容！！\n",
      "已经爬取数据600条！\n",
      "已经爬取数据610条！\n",
      "已经用时9710.63秒!!\n",
      "预计还需用时\"0天01:23:22\"!\n",
      "--------------------\n",
      "正在爬取第34页的内容！！\n",
      "已经爬取数据620条！\n",
      "已经爬取数据630条！\n",
      "已经用时10038.66秒!!\n",
      "预计还需用时\"0天01:18:44\"!\n",
      "--------------------\n",
      "正在爬取第35页的内容！！\n",
      "已经爬取数据640条！\n",
      "已经爬取数据650条！\n",
      "已经用时10369.84秒!!\n",
      "预计还需用时\"0天01:14:04\"!\n",
      "--------------------\n",
      "正在爬取第36页的内容！！\n",
      "已经爬取数据660条！\n",
      "已经爬取数据670条！\n",
      "已经用时10709.82秒!!\n",
      "预计还需用时\"0天01:09:25\"!\n",
      "--------------------\n",
      "正在爬取第37页的内容！！\n",
      "已经爬取数据680条！\n",
      "已经爬取数据690条！\n",
      "已经用时11003.05秒!!\n",
      "预计还需用时\"0天01:04:26\"!\n",
      "--------------------\n",
      "正在爬取第38页的内容！！\n",
      "已经爬取数据700条！\n",
      "已经爬取数据710条！\n",
      "已经用时11266.44秒!!\n",
      "预计还需用时\"0天00:59:18\"!\n",
      "--------------------\n",
      "正在爬取第39页的内容！！\n",
      "已经爬取数据720条！\n",
      "已经爬取数据730条！\n",
      "已经用时11558.85秒!!\n",
      "预计还需用时\"0天00:54:20\"!\n",
      "--------------------\n",
      "正在爬取第40页的内容！！\n",
      "已经爬取数据740条！\n",
      "已经爬取数据750条！\n",
      "已经用时11860.83秒!!\n",
      "预计还需用时\"0天00:49:25\"!\n",
      "--------------------\n",
      "正在爬取第41页的内容！！\n",
      "已经爬取数据760条！\n",
      "已经爬取数据770条！\n",
      "已经用时12200.24秒!!\n",
      "预计还需用时\"0天00:44:38\"!\n",
      "--------------------\n",
      "正在爬取第42页的内容！！\n",
      "已经爬取数据780条！\n",
      "已经爬取数据790条！\n",
      "已经用时12519.12秒!!\n",
      "预计还需用时\"0天00:39:45\"!\n",
      "--------------------\n",
      "正在爬取第43页的内容！！\n",
      "已经爬取数据800条！\n",
      "已经爬取数据810条！\n",
      "已经用时12846.53秒!!\n",
      "预计还需用时\"0天00:34:51\"!\n",
      "--------------------\n",
      "正在爬取第44页的内容！！\n",
      "已经爬取数据820条！\n",
      "已经爬取数据830条！\n",
      "已经用时13154.11秒!!\n",
      "预计还需用时\"0天00:29:54\"!\n",
      "--------------------\n",
      "正在爬取第45页的内容！！\n",
      "已经爬取数据840条！\n",
      "已经爬取数据850条！\n",
      "已经用时13492.68秒!!\n",
      "预计还需用时\"0天00:24:59\"!\n",
      "--------------------\n",
      "正在爬取第46页的内容！！\n",
      "已经爬取数据860条！\n",
      "已经爬取数据870条！\n",
      "已经用时13787.89秒!!\n",
      "预计还需用时\"0天00:19:59\"!\n",
      "--------------------\n",
      "正在爬取第47页的内容！！\n",
      "已经爬取数据880条！\n",
      "已经爬取数据890条！\n",
      "已经用时14088.19秒!!\n",
      "预计还需用时\"0天00:14:59\"!\n",
      "--------------------\n",
      "正在爬取第48页的内容！！\n",
      "已经爬取数据900条！\n",
      "已经爬取数据910条！\n",
      "已经用时14380.49秒!!\n",
      "预计还需用时\"0天00:09:59\"!\n",
      "--------------------\n",
      "正在爬取第49页的内容！！\n",
      "已经爬取数据920条！\n",
      "已经爬取数据930条！\n",
      "已经用时14698.60秒!!\n",
      "预计还需用时\"0天00:04:60\"!\n",
      "--------------------\n",
      "正在爬取第50页的内容！！\n",
      "已经爬取数据940条！\n",
      "已经爬取数据950条！\n",
      "已经用时15015.88秒!!\n",
      "预计还需用时\"0天00:00:00\"!\n",
      "--------------------\n",
      "用时0天04:10:16，已经爬完50页的内容共954条！！\n",
      "************************************************\n"
     ]
    }
   ],
   "source": [
    "China_US_trade_war = Washington_Post_news(50)"
   ]
  },
  {
   "cell_type": "code",
   "execution_count": 93,
   "metadata": {},
   "outputs": [
    {
     "data": {
      "text/html": [
       "<div>\n",
       "<style scoped>\n",
       "    .dataframe tbody tr th:only-of-type {\n",
       "        vertical-align: middle;\n",
       "    }\n",
       "\n",
       "    .dataframe tbody tr th {\n",
       "        vertical-align: top;\n",
       "    }\n",
       "\n",
       "    .dataframe thead th {\n",
       "        text-align: right;\n",
       "    }\n",
       "</style>\n",
       "<table border=\"1\" class=\"dataframe\">\n",
       "  <thead>\n",
       "    <tr style=\"text-align: right;\">\n",
       "      <th></th>\n",
       "      <th>title</th>\n",
       "      <th>url</th>\n",
       "      <th>date_time</th>\n",
       "      <th>content</th>\n",
       "    </tr>\n",
       "  </thead>\n",
       "  <tbody>\n",
       "    <tr>\n",
       "      <th>0</th>\n",
       "      <td>Shares fall in Asia after no deal in China-US ...</td>\n",
       "      <td>https://www.washingtonpost.com/business/shares...</td>\n",
       "      <td>May 13, 2019</td>\n",
       "      <td>By Elaine Kurtenbach | AP     May 13 at ...</td>\n",
       "    </tr>\n",
       "    <tr>\n",
       "      <th>1</th>\n",
       "      <td>Shares fall in Asia after no deal in China-US ...</td>\n",
       "      <td>https://www.washingtonpost.com/world/asia_paci...</td>\n",
       "      <td>May 13, 2019</td>\n",
       "      <td>By Elaine Kurtenbach | AP     May 12 at ...</td>\n",
       "    </tr>\n",
       "    <tr>\n",
       "      <th>2</th>\n",
       "      <td>Stocks end lower ahead of US-China trade war d...</td>\n",
       "      <td>https://www.washingtonpost.com/business/asian-...</td>\n",
       "      <td>May 10, 2019</td>\n",
       "      <td>By Stan Choe and Alex Veiga | AP     May...</td>\n",
       "    </tr>\n",
       "    <tr>\n",
       "      <th>3</th>\n",
       "      <td>Trump administration accuses Chinese officials...</td>\n",
       "      <td>https://www.washingtonpost.com/business/econom...</td>\n",
       "      <td>May 7, 2019</td>\n",
       "      <td>By  David J. Lynch and          David J....</td>\n",
       "    </tr>\n",
       "    <tr>\n",
       "      <th>4</th>\n",
       "      <td>Can US, China salvage their talks and end trad...</td>\n",
       "      <td>https://www.washingtonpost.com/business/can-us...</td>\n",
       "      <td>May 8, 2019</td>\n",
       "      <td>By Paul Wiseman | AP     May 7  WASHINGT...</td>\n",
       "    </tr>\n",
       "  </tbody>\n",
       "</table>\n",
       "</div>"
      ],
      "text/plain": [
       "                                               title  \\\n",
       "0  Shares fall in Asia after no deal in China-US ...   \n",
       "1  Shares fall in Asia after no deal in China-US ...   \n",
       "2  Stocks end lower ahead of US-China trade war d...   \n",
       "3  Trump administration accuses Chinese officials...   \n",
       "4  Can US, China salvage their talks and end trad...   \n",
       "\n",
       "                                                 url     date_time  \\\n",
       "0  https://www.washingtonpost.com/business/shares...  May 13, 2019   \n",
       "1  https://www.washingtonpost.com/world/asia_paci...  May 13, 2019   \n",
       "2  https://www.washingtonpost.com/business/asian-...  May 10, 2019   \n",
       "3  https://www.washingtonpost.com/business/econom...   May 7, 2019   \n",
       "4  https://www.washingtonpost.com/business/can-us...   May 8, 2019   \n",
       "\n",
       "                                             content  \n",
       "0        By Elaine Kurtenbach | AP     May 13 at ...  \n",
       "1        By Elaine Kurtenbach | AP     May 12 at ...  \n",
       "2        By Stan Choe and Alex Veiga | AP     May...  \n",
       "3        By  David J. Lynch and          David J....  \n",
       "4        By Paul Wiseman | AP     May 7  WASHINGT...  "
      ]
     },
     "execution_count": 93,
     "metadata": {},
     "output_type": "execute_result"
    }
   ],
   "source": [
    "China_US_trade_war.head()"
   ]
  },
  {
   "cell_type": "code",
   "execution_count": 94,
   "metadata": {},
   "outputs": [],
   "source": [
    "China_US_trade_war.to_csv('China_US_trade_war.csv', index=False)"
   ]
  },
  {
   "cell_type": "code",
   "execution_count": 97,
   "metadata": {
    "scrolled": true
   },
   "outputs": [
    {
     "name": "stdout",
     "output_type": "stream",
     "text": [
      "(954, 4)\n"
     ]
    }
   ],
   "source": [
    "print(China_US_trade_war.shape)"
   ]
  },
  {
   "cell_type": "code",
   "execution_count": 95,
   "metadata": {},
   "outputs": [],
   "source": [
    "df = China_US_trade_war"
   ]
  },
  {
   "cell_type": "code",
   "execution_count": 96,
   "metadata": {},
   "outputs": [
    {
     "data": {
      "text/plain": [
       "''"
      ]
     },
     "execution_count": 96,
     "metadata": {},
     "output_type": "execute_result"
    }
   ],
   "source": [
    "df.content[948]   #有空值"
   ]
  },
  {
   "cell_type": "code",
   "execution_count": 54,
   "metadata": {
    "scrolled": true
   },
   "outputs": [
    {
     "data": {
      "text/plain": [
       "171"
      ]
     },
     "execution_count": 54,
     "metadata": {},
     "output_type": "execute_result"
    }
   ],
   "source": [
    "sum(df.content == '')  "
   ]
  },
  {
   "cell_type": "code",
   "execution_count": 59,
   "metadata": {},
   "outputs": [],
   "source": [
    "df_no_none = df.loc[df.content != '', :]  #将非空的数据导出"
   ]
  },
  {
   "cell_type": "code",
   "execution_count": 66,
   "metadata": {},
   "outputs": [],
   "source": [
    "df_no_none.to_csv('中美贸易战_washington_post.csv', index=False, encoding='utf-8')"
   ]
  },
  {
   "cell_type": "code",
   "execution_count": 99,
   "metadata": {},
   "outputs": [
    {
     "data": {
      "text/plain": [
       "(783, 4)"
      ]
     },
     "execution_count": 99,
     "metadata": {},
     "output_type": "execute_result"
    }
   ],
   "source": [
    "df_no_none.shape"
   ]
  },
  {
   "cell_type": "markdown",
   "metadata": {},
   "source": [
    "### 数据处理"
   ]
  },
  {
   "cell_type": "code",
   "execution_count": 102,
   "metadata": {},
   "outputs": [],
   "source": [
    "df_no_none_content = list(df_no_none.content)"
   ]
  },
  {
   "cell_type": "code",
   "execution_count": 98,
   "metadata": {},
   "outputs": [],
   "source": [
    "tf1 = TfidfVectorizer(analyzer='word', stop_words='english', ngram_range=(1,3))"
   ]
  },
  {
   "cell_type": "code",
   "execution_count": 104,
   "metadata": {},
   "outputs": [],
   "source": [
    "tfidf_matrix1 = tf1.fit_transform(df_no_none_content)"
   ]
  },
  {
   "cell_type": "code",
   "execution_count": 106,
   "metadata": {},
   "outputs": [
    {
     "name": "stdout",
     "output_type": "stream",
     "text": [
      "857436\n"
     ]
    }
   ],
   "source": [
    "feature_names1 = tf1.get_feature_names() \n",
    "print(len(feature_names1))"
   ]
  },
  {
   "cell_type": "code",
   "execution_count": 107,
   "metadata": {},
   "outputs": [
    {
     "name": "stdout",
     "output_type": "stream",
     "text": [
      "index                0.09678907164195957\n",
      "friday               0.09428828190477724\n",
      "trade talks          0.07174153316291021\n",
      "fell                 0.06792766406233929\n",
      "109                  0.06770580920551937\n",
      "yen                  0.058682233243864006\n",
      "61                   0.057200328277694466\n",
      "cents                0.057200328277694466\n",
      "barrel               0.054698473594984184\n",
      "talks                0.0489216939428348\n",
      "crude                0.048316869775101794\n",
      "asia                 0.048103550699627705\n",
      "china                0.0478448875401908\n",
      "tariffs              0.04596624722554272\n",
      "said                 0.04579810329842932\n",
      "gained               0.04516004316565522\n",
      "added                0.04175661518025949\n",
      "shares               0.04150468079066733\n",
      "higher               0.041154534448623825\n",
      "liu                  0.0406140514977835\n"
     ]
    }
   ],
   "source": [
    "dense1 = tfidf_matrix1.todense() \n",
    "\n",
    "episode1 = dense1[0].tolist()[0]\n",
    "phrase_scores1 = [pair for pair in zip(range(0, len(episode1)), episode1) if pair[1] > 0]\n",
    "sorted_phrase_scores1 = sorted(phrase_scores1, key=lambda t: t[1] * -1)\n",
    "for phrase, score in [(feature_names1[word_id], score) \n",
    "    for (word_id, score) in sorted_phrase_scores1][:20]:\n",
    "        print('{0: <20} {1}'.format(phrase, score))"
   ]
  }
 ],
 "metadata": {
  "kernelspec": {
   "display_name": "Python 3",
   "language": "python",
   "name": "python3"
  },
  "language_info": {
   "codemirror_mode": {
    "name": "ipython",
    "version": 3
   },
   "file_extension": ".py",
   "mimetype": "text/x-python",
   "name": "python",
   "nbconvert_exporter": "python",
   "pygments_lexer": "ipython3",
   "version": "3.7.2"
  }
 },
 "nbformat": 4,
 "nbformat_minor": 2
}
